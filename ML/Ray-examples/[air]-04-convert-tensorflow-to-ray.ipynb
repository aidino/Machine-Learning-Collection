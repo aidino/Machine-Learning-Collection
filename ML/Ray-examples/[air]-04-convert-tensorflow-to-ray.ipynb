{
 "cells": [
  {
   "cell_type": "markdown",
   "metadata": {},
   "source": [
    "# Convert existing Tensorflow/Keras code to Ray AIR\n",
    "\n",
    "Source: https://docs.ray.io/en/latest/ray-air/examples/convert_existing_tf_code_to_ray_air.html"
   ]
  },
  {
   "cell_type": "markdown",
   "metadata": {},
   "source": [
    "## Existing Tensorflow Code"
   ]
  },
  {
   "cell_type": "code",
   "execution_count": 1,
   "metadata": {},
   "outputs": [
    {
     "name": "stderr",
     "output_type": "stream",
     "text": [
      "2023-09-06 08:37:38.093809: I tensorflow/core/util/port.cc:110] oneDNN custom operations are on. You may see slightly different numerical results due to floating-point round-off errors from different computation orders. To turn them off, set the environment variable `TF_ENABLE_ONEDNN_OPTS=0`.\n",
      "2023-09-06 08:37:38.118420: I tensorflow/core/platform/cpu_feature_guard.cc:182] This TensorFlow binary is optimized to use available CPU instructions in performance-critical operations.\n",
      "To enable the following instructions: AVX2 AVX_VNNI FMA, in other operations, rebuild TensorFlow with the appropriate compiler flags.\n",
      "2023-09-06 08:37:38.559289: W tensorflow/compiler/tf2tensorrt/utils/py_utils.cc:38] TF-TRT Warning: Could not find TensorRT\n"
     ]
    },
    {
     "name": "stdout",
     "output_type": "stream",
     "text": [
      "TensorFlow version: 2.13.0\n"
     ]
    }
   ],
   "source": [
    "import tensorflow as tf\n",
    "print(\"TensorFlow version:\", tf.__version__)"
   ]
  },
  {
   "cell_type": "code",
   "execution_count": 2,
   "metadata": {},
   "outputs": [
    {
     "name": "stdout",
     "output_type": "stream",
     "text": [
      "Training Dataset: 60000 samples\n",
      "Test Dataset: 10000 samples\n"
     ]
    },
    {
     "name": "stderr",
     "output_type": "stream",
     "text": [
      "2023-09-06 08:38:19.582765: I tensorflow/compiler/xla/stream_executor/cuda/cuda_gpu_executor.cc:995] successful NUMA node read from SysFS had negative value (-1), but there must be at least one NUMA node, so returning NUMA node zero. See more at https://github.com/torvalds/linux/blob/v6.0/Documentation/ABI/testing/sysfs-bus-pci#L344-L355\n",
      "2023-09-06 08:38:19.597540: W tensorflow/core/common_runtime/gpu/gpu_device.cc:1960] Cannot dlopen some GPU libraries. Please make sure the missing libraries mentioned above are installed properly if you would like to use GPU. Follow the guide at https://www.tensorflow.org/install/gpu for how to download and setup the required libraries for your platform.\n",
      "Skipping registering GPU devices...\n"
     ]
    }
   ],
   "source": [
    "mnist = tf.keras.datasets.mnist\n",
    "\n",
    "(x_train, y_train), (x_test, y_test) = mnist.load_data()\n",
    "x_train, x_test = x_train / 255.0, x_test / 255.0\n",
    "\n",
    "train_ds = tf.data.Dataset.from_tensor_slices(\n",
    "    (x_train, y_train)).shuffle(len(x_train)).batch(32)\n",
    "test_ds = tf.data.Dataset.from_tensor_slices((x_test, y_test)).batch(32)\n",
    "\n",
    "print(f\"Training Dataset: {len(x_train)} samples\")\n",
    "print(f\"Test Dataset: {len(x_test)} samples\")"
   ]
  },
  {
   "cell_type": "code",
   "execution_count": 3,
   "metadata": {},
   "outputs": [],
   "source": [
    "def build_model() -> tf.keras.Model:\n",
    "    return tf.keras.Sequential(\n",
    "        [\n",
    "            tf.keras.layers.InputLayer(input_shape=(28, 28)),\n",
    "            tf.keras.layers.Flatten(),\n",
    "            tf.keras.layers.Dense(128, activation=\"relu\"),\n",
    "            tf.keras.layers.Dropout(0.2),\n",
    "            tf.keras.layers.Dense(10),\n",
    "        ]\n",
    "    )"
   ]
  },
  {
   "cell_type": "code",
   "execution_count": 4,
   "metadata": {},
   "outputs": [],
   "source": [
    "loss_object = tf.keras.losses.SparseCategoricalCrossentropy(from_logits=True)\n",
    "optimizer = tf.keras.optimizers.Adam()\n",
    "\n",
    "model = build_model()\n",
    "model.compile(\n",
    "    optimizer=optimizer,\n",
    "    loss=loss_object,\n",
    "    metrics=[\"accuracy\"],\n",
    ")"
   ]
  },
  {
   "cell_type": "code",
   "execution_count": 5,
   "metadata": {},
   "outputs": [
    {
     "name": "stdout",
     "output_type": "stream",
     "text": [
      "Epoch 1/5\n",
      "1875/1875 - 2s - loss: 0.2938 - accuracy: 0.9154 - 2s/epoch - 982us/step\n",
      "Epoch 2/5\n",
      "1875/1875 - 2s - loss: 0.1437 - accuracy: 0.9571 - 2s/epoch - 857us/step\n",
      "Epoch 3/5\n",
      "1875/1875 - 2s - loss: 0.1087 - accuracy: 0.9671 - 2s/epoch - 853us/step\n",
      "Epoch 4/5\n",
      "1875/1875 - 2s - loss: 0.0886 - accuracy: 0.9727 - 2s/epoch - 867us/step\n",
      "Epoch 5/5\n",
      "1875/1875 - 2s - loss: 0.0758 - accuracy: 0.9763 - 2s/epoch - 871us/step\n"
     ]
    }
   ],
   "source": [
    "train_history = model.fit(train_ds, epochs=5, verbose=2)"
   ]
  },
  {
   "cell_type": "code",
   "execution_count": 6,
   "metadata": {},
   "outputs": [
    {
     "name": "stdout",
     "output_type": "stream",
     "text": [
      "Final Test Loss: 0.0749, Final Test Accuracy: 0.9777\n"
     ]
    }
   ],
   "source": [
    "# Evaluate on the test set and report metrics\n",
    "eval_result = model.evaluate(test_ds, return_dict=True, verbose=0)\n",
    "test_loss = eval_result[\"loss\"]\n",
    "test_accuracy = eval_result[\"accuracy\"]\n",
    "print(\n",
    "    f\"Final Test Loss: {test_loss:.4f}, \"\n",
    "    f\"Final Test Accuracy: {test_accuracy:.4f}\"\n",
    ")"
   ]
  },
  {
   "cell_type": "markdown",
   "metadata": {},
   "source": [
    "## Wrap everything in a training loop function"
   ]
  },
  {
   "cell_type": "code",
   "execution_count": 7,
   "metadata": {},
   "outputs": [],
   "source": [
    "def get_train_test_datasets(batch_size):\n",
    "    train_ds = tf.data.Dataset.from_tensor_slices(\n",
    "        (x_train, y_train)).shuffle(len(x_train)).batch(batch_size)\n",
    "    test_ds = tf.data.Dataset.from_tensor_slices(\n",
    "        (x_test, y_test)).batch(batch_size)\n",
    "\n",
    "    return train_ds, test_ds\n",
    "\n",
    "def train_func():\n",
    "    epochs = 5\n",
    "    batch_size = 32\n",
    "\n",
    "    loss_object = tf.keras.losses.SparseCategoricalCrossentropy(from_logits=True)\n",
    "    optimizer = tf.keras.optimizers.Adam()\n",
    "\n",
    "    model = build_model()\n",
    "    model.compile(\n",
    "        optimizer=optimizer,\n",
    "        loss=loss_object,\n",
    "        metrics=[\"accuracy\"],\n",
    "    )\n",
    "    \n",
    "    train_ds, test_ds = get_train_test_datasets(batch_size)\n",
    "    \n",
    "    model.fit(train_ds, epochs=epochs, verbose=2)\n",
    "    \n",
    "    eval_result = model.evaluate(test_ds, return_dict=True, verbose=0)\n",
    "    test_loss = eval_result[\"loss\"]\n",
    "    test_accuracy = eval_result[\"accuracy\"]\n",
    "    print(\n",
    "        f\"Final Test Loss: {test_loss:.4f}, \"\n",
    "        f\"Final Test Accuracy: {test_accuracy:.4f}\"\n",
    "    )"
   ]
  },
  {
   "cell_type": "markdown",
   "metadata": {},
   "source": [
    "## Introduce Ray AIR for Distributed Data-Parallel **Training**"
   ]
  },
  {
   "cell_type": "code",
   "execution_count": 8,
   "metadata": {},
   "outputs": [],
   "source": [
    "from ray.air import session\n",
    "from ray.air.integrations.keras import ReportCheckpointCallback\n",
    "\n",
    "# 1. Pass in the hyperparameter config\n",
    "def train_func(config: dict):\n",
    "    epochs = config.get(\"epochs\", 5)\n",
    "    batch_size_per_worker = config.get(\"batch_size\", 32)\n",
    "    \n",
    "    # 2. Synchronized model setup\n",
    "    strategy = tf.distribute.MultiWorkerMirroredStrategy()\n",
    "    with strategy.scope(): \n",
    "        loss_object = tf.keras.losses.SparseCategoricalCrossentropy(from_logits=True)\n",
    "        optimizer = tf.keras.optimizers.Adam()\n",
    "        \n",
    "        model = build_model()\n",
    "        model.compile(\n",
    "            optimizer=optimizer,\n",
    "            loss=loss_object,\n",
    "            metrics=[\"accuracy\"],\n",
    "        )\n",
    "\n",
    "    # 3. Shard the dataset across `session.get_world_size()` workers\n",
    "    global_batch_size = batch_size_per_worker * session.get_world_size()\n",
    "    train_ds, test_ds = get_train_test_datasets(batch_size_per_worker)\n",
    "\n",
    "    if session.get_world_rank() == 0:\n",
    "        print(f\"\\nDataset is sharded across {session.get_world_size()} workers:\")\n",
    "        # The number of samples is approximate, because is not always\n",
    "        # a multiple of batch_size, so some batches could contain fewer than\n",
    "        # `batch_size_per_worker` samples.\n",
    "        print(\n",
    "            f\"# training batches per worker = {len(train_ds)} \"\n",
    "            f\"(~{len(train_ds) * batch_size_per_worker} samples)\"\n",
    "        )\n",
    "        print(\n",
    "            f\"# test batches per worker = {len(test_ds)} \"\n",
    "            f\"(~{len(test_ds) * batch_size_per_worker} samples)\"\n",
    "        )\n",
    "  \n",
    "    # 4. Report metrics and checkpoint the model\n",
    "    report_metrics_and_checkpoint_callback = ReportCheckpointCallback(report_metrics_on=\"epoch_end\")\n",
    "    model.fit(\n",
    "        train_ds,\n",
    "        epochs=epochs,\n",
    "        callbacks=[report_metrics_and_checkpoint_callback],\n",
    "        verbose=(0 if session.get_world_rank() != 0 else 2),\n",
    "    )\n",
    "\n",
    "    eval_result = model.evaluate(test_ds, return_dict=True, verbose=0)\n",
    "    test_loss = eval_result[\"loss\"]\n",
    "    test_accuracy = eval_result[\"accuracy\"]\n",
    "    if session.get_world_rank() == 0:\n",
    "        print(\n",
    "            f\"Final Test Loss: {test_loss:.4f}, \"\n",
    "            f\"Final Test Accuracy: {test_accuracy:.4f}\"\n",
    "        )"
   ]
  },
  {
   "cell_type": "code",
   "execution_count": 9,
   "metadata": {},
   "outputs": [],
   "source": [
    "def get_train_test_datasets(batch_size):\n",
    "    # NEW: Now, the dataset will be downloaded to disk once per machine\n",
    "    mnist = tf.keras.datasets.mnist\n",
    "    (x_train, y_train), (x_test, y_test) = mnist.load_data()\n",
    "    x_train, x_test = x_train / 255.0, x_test / 255.0\n",
    "    \n",
    "    train_ds = tf.data.Dataset.from_tensor_slices(\n",
    "        (x_train, y_train)).shuffle(len(x_train)).batch(batch_size)\n",
    "    test_ds = tf.data.Dataset.from_tensor_slices(\n",
    "        (x_test, y_test)).batch(batch_size)\n",
    "    return train_ds, test_ds"
   ]
  },
  {
   "cell_type": "markdown",
   "metadata": {},
   "source": [
    "### Start training with TensorflowTrainer"
   ]
  },
  {
   "cell_type": "code",
   "execution_count": 10,
   "metadata": {},
   "outputs": [
    {
     "data": {
      "text/html": [
       "<div class=\"tuneStatus\">\n",
       "  <div style=\"display: flex;flex-direction: row\">\n",
       "    <div style=\"display: flex;flex-direction: column;\">\n",
       "      <h3>Tune Status</h3>\n",
       "      <table>\n",
       "<tbody>\n",
       "<tr><td>Current time:</td><td>2023-09-06 09:04:45</td></tr>\n",
       "<tr><td>Running for: </td><td>00:00:41.66        </td></tr>\n",
       "<tr><td>Memory:      </td><td>27.1/30.9 GiB      </td></tr>\n",
       "</tbody>\n",
       "</table>\n",
       "    </div>\n",
       "    <div class=\"vDivider\"></div>\n",
       "    <div class=\"systemInfo\">\n",
       "      <h3>System Info</h3>\n",
       "      Using FIFO scheduling algorithm.<br>Logical resource usage: 3.0/20 CPUs, 0/1 GPUs (0.0/1.0 accelerator_type:G)\n",
       "    </div>\n",
       "    \n",
       "  </div>\n",
       "  <div class=\"hDivider\"></div>\n",
       "  <div class=\"trialStatus\">\n",
       "    <h3>Trial Status</h3>\n",
       "    <table>\n",
       "<thead>\n",
       "<tr><th>Trial name                   </th><th>status    </th><th>loc                 </th><th style=\"text-align: right;\">  iter</th><th style=\"text-align: right;\">  total time (s)</th><th style=\"text-align: right;\">     loss</th><th style=\"text-align: right;\">  accuracy</th></tr>\n",
       "</thead>\n",
       "<tbody>\n",
       "<tr><td>TensorflowTrainer_a69bc_00000</td><td>TERMINATED</td><td>192.168.33.188:21412</td><td style=\"text-align: right;\">     4</td><td style=\"text-align: right;\">         36.3807</td><td style=\"text-align: right;\">0.0834005</td><td style=\"text-align: right;\">     0.974</td></tr>\n",
       "</tbody>\n",
       "</table>\n",
       "  </div>\n",
       "</div>\n",
       "<style>\n",
       ".tuneStatus {\n",
       "  color: var(--jp-ui-font-color1);\n",
       "}\n",
       ".tuneStatus .systemInfo {\n",
       "  display: flex;\n",
       "  flex-direction: column;\n",
       "}\n",
       ".tuneStatus td {\n",
       "  white-space: nowrap;\n",
       "}\n",
       ".tuneStatus .trialStatus {\n",
       "  display: flex;\n",
       "  flex-direction: column;\n",
       "}\n",
       ".tuneStatus h3 {\n",
       "  font-weight: bold;\n",
       "}\n",
       ".tuneStatus .hDivider {\n",
       "  border-bottom-width: var(--jp-border-width);\n",
       "  border-bottom-color: var(--jp-border-color0);\n",
       "  border-bottom-style: solid;\n",
       "}\n",
       ".tuneStatus .vDivider {\n",
       "  border-left-width: var(--jp-border-width);\n",
       "  border-left-color: var(--jp-border-color0);\n",
       "  border-left-style: solid;\n",
       "  margin: 0.5em 1em 0.5em 1em;\n",
       "}\n",
       "</style>\n"
      ],
      "text/plain": [
       "<IPython.core.display.HTML object>"
      ]
     },
     "metadata": {},
     "output_type": "display_data"
    },
    {
     "name": "stderr",
     "output_type": "stream",
     "text": [
      "2023-09-06 09:04:03,527\tINFO data_parallel_trainer.py:404 -- GPUs are detected in your Ray cluster, but GPU training is not enabled for this trainer. To enable GPU training, make sure to set `use_gpu` to True in your scaling config.\n",
      "\u001b[2m\u001b[36m(pid=21412)\u001b[0m 2023-09-06 09:04:04.604693: I tensorflow/core/util/port.cc:110] oneDNN custom operations are on. You may see slightly different numerical results due to floating-point round-off errors from different computation orders. To turn them off, set the environment variable `TF_ENABLE_ONEDNN_OPTS=0`.\n",
      "\u001b[2m\u001b[36m(pid=21412)\u001b[0m 2023-09-06 09:04:04.630509: I tensorflow/core/platform/cpu_feature_guard.cc:182] This TensorFlow binary is optimized to use available CPU instructions in performance-critical operations.\n",
      "\u001b[2m\u001b[36m(pid=21412)\u001b[0m To enable the following instructions: AVX2 AVX_VNNI FMA, in other operations, rebuild TensorFlow with the appropriate compiler flags.\n",
      "\u001b[2m\u001b[36m(pid=21412)\u001b[0m 2023-09-06 09:04:05.109655: W tensorflow/compiler/tf2tensorrt/utils/py_utils.cc:38] TF-TRT Warning: Could not find TensorRT\n",
      "\u001b[2m\u001b[36m(TrainTrainable pid=21412)\u001b[0m GPUs are detected in your Ray cluster, but GPU training is not enabled for this trainer. To enable GPU training, make sure to set `use_gpu` to True in your scaling config.\n",
      "\u001b[2m\u001b[36m(TensorflowTrainer pid=21412)\u001b[0m GPUs are detected in your Ray cluster, but GPU training is not enabled for this trainer. To enable GPU training, make sure to set `use_gpu` to True in your scaling config.\n",
      "\u001b[2m\u001b[36m(TensorflowTrainer pid=21412)\u001b[0m Starting distributed worker processes: ['21466 (192.168.33.188)', '21467 (192.168.33.188)']\n",
      "\u001b[2m\u001b[36m(RayTrainWorker pid=21467)\u001b[0m 2023-09-06 09:04:07.357705: E tensorflow/compiler/xla/stream_executor/cuda/cuda_driver.cc:268] failed call to cuInit: CUDA_ERROR_NO_DEVICE: no CUDA-capable device is detected\n",
      "\u001b[2m\u001b[36m(RayTrainWorker pid=21467)\u001b[0m 2023-09-06 09:04:07.357735: I tensorflow/compiler/xla/stream_executor/cuda/cuda_diagnostics.cc:168] retrieving CUDA diagnostic information for host: fedora\n",
      "\u001b[2m\u001b[36m(RayTrainWorker pid=21467)\u001b[0m 2023-09-06 09:04:07.357738: I tensorflow/compiler/xla/stream_executor/cuda/cuda_diagnostics.cc:175] hostname: fedora\n",
      "\u001b[2m\u001b[36m(RayTrainWorker pid=21467)\u001b[0m 2023-09-06 09:04:07.357807: I tensorflow/compiler/xla/stream_executor/cuda/cuda_diagnostics.cc:199] libcuda reported version is: 535.98.0\n",
      "\u001b[2m\u001b[36m(RayTrainWorker pid=21467)\u001b[0m 2023-09-06 09:04:07.357816: I tensorflow/compiler/xla/stream_executor/cuda/cuda_diagnostics.cc:203] kernel reported version is: 535.98.0\n",
      "\u001b[2m\u001b[36m(RayTrainWorker pid=21467)\u001b[0m 2023-09-06 09:04:07.357819: I tensorflow/compiler/xla/stream_executor/cuda/cuda_diagnostics.cc:309] kernel version seems to match DSO: 535.98.0\n",
      "\u001b[2m\u001b[36m(RayTrainWorker pid=21467)\u001b[0m 2023-09-06 09:04:07.363875: I tensorflow/core/distributed_runtime/rpc/grpc_server_lib.cc:449] Started server with target: grpc://192.168.33.188:47705\n",
      "\u001b[2m\u001b[36m(RayTrainWorker pid=21467)\u001b[0m 2023-09-06 09:04:07.383444: I tensorflow/tsl/distributed_runtime/coordination/coordination_service_agent.cc:298] Coordination agent has successfully connected.\n",
      "\u001b[2m\u001b[36m(RayTrainWorker pid=21466)\u001b[0m 2023-09-06 09:04:07.377753: I tensorflow/tsl/distributed_runtime/coordination/coordination_service.cc:535] /job:worker/replica:0/task:0 has connected to coordination service. Incarnation: 15059218997682992210\n",
      "\u001b[2m\u001b[36m(RayTrainWorker pid=21466)\u001b[0m 2023-09-06 09:04:07.383352: I tensorflow/tsl/distributed_runtime/coordination/coordination_service.cc:535] /job:worker/replica:0/task:1 has connected to coordination service. Incarnation: 14328998462744996066\n"
     ]
    },
    {
     "name": "stdout",
     "output_type": "stream",
     "text": [
      "\u001b[2m\u001b[36m(RayTrainWorker pid=21466)\u001b[0m \n",
      "\u001b[2m\u001b[36m(RayTrainWorker pid=21466)\u001b[0m Dataset is sharded across 2 workers:\n",
      "\u001b[2m\u001b[36m(RayTrainWorker pid=21466)\u001b[0m # training batches per worker = 1875 (~60000 samples)\n",
      "\u001b[2m\u001b[36m(RayTrainWorker pid=21466)\u001b[0m # test batches per worker = 313 (~10016 samples)\n"
     ]
    },
    {
     "name": "stderr",
     "output_type": "stream",
     "text": [
      "\u001b[2m\u001b[36m(RayTrainWorker pid=21467)\u001b[0m 2023-09-06 09:04:08.244436: W tensorflow/core/grappler/optimizers/data/auto_shard.cc:786] AUTO sharding policy will apply DATA sharding policy as it failed to apply FILE sharding policy because of the following reason: Found an unshardable source dataset: name: \"TensorSliceDataset/_2\"\n",
      "\u001b[2m\u001b[36m(RayTrainWorker pid=21467)\u001b[0m op: \"TensorSliceDataset\"\n",
      "\u001b[2m\u001b[36m(RayTrainWorker pid=21467)\u001b[0m input: \"Placeholder/_0\"\n",
      "\u001b[2m\u001b[36m(RayTrainWorker pid=21467)\u001b[0m input: \"Placeholder/_1\"\n",
      "\u001b[2m\u001b[36m(RayTrainWorker pid=21467)\u001b[0m attr {\n",
      "\u001b[2m\u001b[36m(RayTrainWorker pid=21467)\u001b[0m   key: \"Toutput_types\"\n",
      "\u001b[2m\u001b[36m(RayTrainWorker pid=21467)\u001b[0m   value {\n",
      "\u001b[2m\u001b[36m(RayTrainWorker pid=21467)\u001b[0m     list {\n",
      "\u001b[2m\u001b[36m(RayTrainWorker pid=21467)\u001b[0m       type: DT_DOUBLE\n",
      "\u001b[2m\u001b[36m(RayTrainWorker pid=21467)\u001b[0m       type: DT_UINT8\n",
      "\u001b[2m\u001b[36m(RayTrainWorker pid=21467)\u001b[0m     }\n",
      "\u001b[2m\u001b[36m(RayTrainWorker pid=21467)\u001b[0m   }\n",
      "\u001b[2m\u001b[36m(RayTrainWorker pid=21467)\u001b[0m }\n",
      "\u001b[2m\u001b[36m(RayTrainWorker pid=21467)\u001b[0m attr {\n",
      "\u001b[2m\u001b[36m(RayTrainWorker pid=21467)\u001b[0m   key: \"_cardinality\"\n",
      "\u001b[2m\u001b[36m(RayTrainWorker pid=21467)\u001b[0m   value {\n",
      "\u001b[2m\u001b[36m(RayTrainWorker pid=21467)\u001b[0m     i: 60000\n",
      "\u001b[2m\u001b[36m(RayTrainWorker pid=21467)\u001b[0m   }\n",
      "\u001b[2m\u001b[36m(RayTrainWorker pid=21467)\u001b[0m }\n",
      "\u001b[2m\u001b[36m(RayTrainWorker pid=21467)\u001b[0m attr {\n",
      "\u001b[2m\u001b[36m(RayTrainWorker pid=21467)\u001b[0m   key: \"is_files\"\n",
      "\u001b[2m\u001b[36m(RayTrainWorker pid=21467)\u001b[0m   value {\n",
      "\u001b[2m\u001b[36m(RayTrainWorker pid=21467)\u001b[0m     b: false\n",
      "\u001b[2m\u001b[36m(RayTrainWorker pid=21467)\u001b[0m   }\n",
      "\u001b[2m\u001b[36m(RayTrainWorker pid=21467)\u001b[0m }\n",
      "\u001b[2m\u001b[36m(RayTrainWorker pid=21467)\u001b[0m attr {\n",
      "\u001b[2m\u001b[36m(RayTrainWorker pid=21467)\u001b[0m   key: \"metadata\"\n",
      "\u001b[2m\u001b[36m(RayTrainWorker pid=21467)\u001b[0m   value {\n",
      "\u001b[2m\u001b[36m(RayTrainWorker pid=21467)\u001b[0m     s: \"\\n\\024TensorSliceDataset:0\"\n",
      "\u001b[2m\u001b[36m(RayTrainWorker pid=21467)\u001b[0m   }\n",
      "\u001b[2m\u001b[36m(RayTrainWorker pid=21467)\u001b[0m }\n",
      "\u001b[2m\u001b[36m(RayTrainWorker pid=21467)\u001b[0m attr {\n",
      "\u001b[2m\u001b[36m(RayTrainWorker pid=21467)\u001b[0m   key: \"output_shapes\"\n",
      "\u001b[2m\u001b[36m(RayTrainWorker pid=21467)\u001b[0m   value {\n",
      "\u001b[2m\u001b[36m(RayTrainWorker pid=21467)\u001b[0m     list {\n",
      "\u001b[2m\u001b[36m(RayTrainWorker pid=21467)\u001b[0m       shape {\n",
      "\u001b[2m\u001b[36m(RayTrainWorker pid=21467)\u001b[0m         dim {\n",
      "\u001b[2m\u001b[36m(RayTrainWorker pid=21467)\u001b[0m           size: 28\n",
      "\u001b[2m\u001b[36m(RayTrainWorker pid=21467)\u001b[0m         }\n",
      "\u001b[2m\u001b[36m(RayTrainWorker pid=21467)\u001b[0m         dim {\n",
      "\u001b[2m\u001b[36m(RayTrainWorker pid=21467)\u001b[0m           size: 28\n",
      "\u001b[2m\u001b[36m(RayTrainWorker pid=21467)\u001b[0m         }\n",
      "\u001b[2m\u001b[36m(RayTrainWorker pid=21467)\u001b[0m       }\n",
      "\u001b[2m\u001b[36m(RayTrainWorker pid=21467)\u001b[0m       shape {\n",
      "\u001b[2m\u001b[36m(RayTrainWorker pid=21467)\u001b[0m       }\n",
      "\u001b[2m\u001b[36m(RayTrainWorker pid=21467)\u001b[0m     }\n",
      "\u001b[2m\u001b[36m(RayTrainWorker pid=21467)\u001b[0m   }\n",
      "\u001b[2m\u001b[36m(RayTrainWorker pid=21467)\u001b[0m }\n",
      "\u001b[2m\u001b[36m(RayTrainWorker pid=21467)\u001b[0m attr {\n",
      "\u001b[2m\u001b[36m(RayTrainWorker pid=21467)\u001b[0m   key: \"replicate_on_split\"\n",
      "\u001b[2m\u001b[36m(RayTrainWorker pid=21467)\u001b[0m   value {\n",
      "\u001b[2m\u001b[36m(RayTrainWorker pid=21467)\u001b[0m     b: false\n",
      "\u001b[2m\u001b[36m(RayTrainWorker pid=21467)\u001b[0m   }\n",
      "\u001b[2m\u001b[36m(RayTrainWorker pid=21467)\u001b[0m }\n",
      "\u001b[2m\u001b[36m(RayTrainWorker pid=21467)\u001b[0m experimental_type {\n",
      "\u001b[2m\u001b[36m(RayTrainWorker pid=21467)\u001b[0m   type_id: TFT_PRODUCT\n",
      "\u001b[2m\u001b[36m(RayTrainWorker pid=21467)\u001b[0m   args {\n",
      "\u001b[2m\u001b[36m(RayTrainWorker pid=21467)\u001b[0m     type_id: TFT_DATASET\n",
      "\u001b[2m\u001b[36m(RayTrainWorker pid=21467)\u001b[0m     args {\n",
      "\u001b[2m\u001b[36m(RayTrainWorker pid=21467)\u001b[0m       type_id: TFT_PRODUCT\n",
      "\u001b[2m\u001b[36m(RayTrainWorker pid=21467)\u001b[0m       args {\n",
      "\u001b[2m\u001b[36m(RayTrainWorker pid=21467)\u001b[0m         type_id: TFT_TENSOR\n",
      "\u001b[2m\u001b[36m(RayTrainWorker pid=21467)\u001b[0m         args {\n",
      "\u001b[2m\u001b[36m(RayTrainWorker pid=21467)\u001b[0m           type_id: TFT_DOUBLE\n",
      "\u001b[2m\u001b[36m(RayTrainWorker pid=21467)\u001b[0m         }\n",
      "\u001b[2m\u001b[36m(RayTrainWorker pid=21467)\u001b[0m       }\n",
      "\u001b[2m\u001b[36m(RayTrainWorker pid=21467)\u001b[0m       args {\n",
      "\u001b[2m\u001b[36m(RayTrainWorker pid=21467)\u001b[0m         type_id: TFT_TENSOR\n",
      "\u001b[2m\u001b[36m(RayTrainWorker pid=21467)\u001b[0m         args {\n",
      "\u001b[2m\u001b[36m(RayTrainWorker pid=21467)\u001b[0m           type_id: TFT_UINT8\n",
      "\u001b[2m\u001b[36m(RayTrainWorker pid=21467)\u001b[0m         }\n",
      "\u001b[2m\u001b[36m(RayTrainWorker pid=21467)\u001b[0m       }\n",
      "\u001b[2m\u001b[36m(RayTrainWorker pid=21467)\u001b[0m     }\n",
      "\u001b[2m\u001b[36m(RayTrainWorker pid=21467)\u001b[0m   }\n",
      "\u001b[2m\u001b[36m(RayTrainWorker pid=21467)\u001b[0m }\n",
      "\u001b[2m\u001b[36m(RayTrainWorker pid=21467)\u001b[0m \n",
      "\u001b[2m\u001b[36m(RayTrainWorker pid=21467)\u001b[0m 2023-09-06 09:04:08.301204: W tensorflow/core/framework/dataset.cc:956] Input of GeneratorDatasetOp::Dataset will not be optimized because the dataset does not implement the AsGraphDefInternal() method needed to apply optimizations.\n"
     ]
    },
    {
     "name": "stdout",
     "output_type": "stream",
     "text": [
      "\u001b[2m\u001b[36m(RayTrainWorker pid=21466)\u001b[0m Epoch 1/4\n",
      "\u001b[2m\u001b[36m(RayTrainWorker pid=21466)\u001b[0m 1875/1875 - 9s - loss: 0.2919 - accuracy: 0.9164 - 9s/epoch - 5ms/step\n",
      "\u001b[2m\u001b[36m(RayTrainWorker pid=21466)\u001b[0m Epoch 2/4\n",
      "\u001b[2m\u001b[36m(RayTrainWorker pid=21466)\u001b[0m 1875/1875 - 8s - loss: 0.1379 - accuracy: 0.9594 - 8s/epoch - 4ms/step\n",
      "\u001b[2m\u001b[36m(RayTrainWorker pid=21466)\u001b[0m Epoch 3/4\n",
      "\u001b[2m\u001b[36m(RayTrainWorker pid=21466)\u001b[0m 1875/1875 - 8s - loss: 0.1019 - accuracy: 0.9690 - 8s/epoch - 4ms/step\n",
      "\u001b[2m\u001b[36m(RayTrainWorker pid=21466)\u001b[0m Epoch 4/4\n"
     ]
    },
    {
     "name": "stderr",
     "output_type": "stream",
     "text": [
      "\u001b[2m\u001b[36m(RayTrainWorker pid=21466)\u001b[0m 2023-09-06 09:04:06.565053: I tensorflow/core/util/port.cc:110] oneDNN custom operations are on. You may see slightly different numerical results due to floating-point round-off errors from different computation orders. To turn them off, set the environment variable `TF_ENABLE_ONEDNN_OPTS=0`.\u001b[32m [repeated 2x across cluster] (Ray deduplicates logs by default. Set RAY_DEDUP_LOGS=0 to disable log deduplication, or see https://docs.ray.io/en/master/ray-observability/ray-logging.html#log-deduplication for more options.)\u001b[0m\n",
      "\u001b[2m\u001b[36m(RayTrainWorker pid=21466)\u001b[0m 2023-09-06 09:04:06.591499: I tensorflow/core/platform/cpu_feature_guard.cc:182] This TensorFlow binary is optimized to use available CPU instructions in performance-critical operations.\u001b[32m [repeated 2x across cluster]\u001b[0m\n",
      "\u001b[2m\u001b[36m(RayTrainWorker pid=21466)\u001b[0m To enable the following instructions: AVX2 AVX_VNNI FMA, in other operations, rebuild TensorFlow with the appropriate compiler flags.\u001b[32m [repeated 2x across cluster]\u001b[0m\n",
      "\u001b[2m\u001b[36m(RayTrainWorker pid=21466)\u001b[0m 2023-09-06 09:04:06.988721: W tensorflow/compiler/tf2tensorrt/utils/py_utils.cc:38] TF-TRT Warning: Could not find TensorRT\u001b[32m [repeated 2x across cluster]\u001b[0m\n",
      "\u001b[2m\u001b[36m(RayTrainWorker pid=21466)\u001b[0m 2023-09-06 09:04:07.357705: E tensorflow/compiler/xla/stream_executor/cuda/cuda_driver.cc:268] failed call to cuInit: CUDA_ERROR_NO_DEVICE: no CUDA-capable device is detected\n",
      "\u001b[2m\u001b[36m(RayTrainWorker pid=21466)\u001b[0m 2023-09-06 09:04:07.357734: I tensorflow/compiler/xla/stream_executor/cuda/cuda_diagnostics.cc:168] retrieving CUDA diagnostic information for host: fedora\n",
      "\u001b[2m\u001b[36m(RayTrainWorker pid=21466)\u001b[0m 2023-09-06 09:04:07.357737: I tensorflow/compiler/xla/stream_executor/cuda/cuda_diagnostics.cc:175] hostname: fedora\n",
      "\u001b[2m\u001b[36m(RayTrainWorker pid=21466)\u001b[0m 2023-09-06 09:04:07.357809: I tensorflow/compiler/xla/stream_executor/cuda/cuda_diagnostics.cc:199] libcuda reported version is: 535.98.0\n",
      "\u001b[2m\u001b[36m(RayTrainWorker pid=21466)\u001b[0m 2023-09-06 09:04:07.357818: I tensorflow/compiler/xla/stream_executor/cuda/cuda_diagnostics.cc:203] kernel reported version is: 535.98.0\n",
      "\u001b[2m\u001b[36m(RayTrainWorker pid=21466)\u001b[0m 2023-09-06 09:04:07.357820: I tensorflow/compiler/xla/stream_executor/cuda/cuda_diagnostics.cc:309] kernel version seems to match DSO: 535.98.0\n",
      "\u001b[2m\u001b[36m(RayTrainWorker pid=21466)\u001b[0m 2023-09-06 09:04:07.363750: I tensorflow/core/distributed_runtime/rpc/grpc_server_lib.cc:449] Started server with target: grpc://192.168.33.188:56865\n",
      "\u001b[2m\u001b[36m(RayTrainWorker pid=21466)\u001b[0m 2023-09-06 09:04:07.377896: I tensorflow/tsl/distributed_runtime/coordination/coordination_service_agent.cc:298] Coordination agent has successfully connected.\n",
      "\u001b[2m\u001b[36m(RayTrainWorker pid=21467)\u001b[0m 2023-09-06 09:04:41.981677: W tensorflow/core/grappler/optimizers/data/auto_shard.cc:786] AUTO sharding policy will apply DATA sharding policy as it failed to apply FILE sharding policy because of the following reason: Found an unshardable source dataset: name: \"TensorSliceDataset/_2\"\u001b[32m [repeated 2x across cluster]\u001b[0m\n",
      "\u001b[2m\u001b[36m(RayTrainWorker pid=21467)\u001b[0m op: \"TensorSliceDataset\"\u001b[32m [repeated 2x across cluster]\u001b[0m\n",
      "\u001b[2m\u001b[36m(RayTrainWorker pid=21467)\u001b[0m input: \"Placeholder/_1\"\u001b[32m [repeated 4x across cluster]\u001b[0m\n",
      "\u001b[2m\u001b[36m(RayTrainWorker pid=21467)\u001b[0m attr {\u001b[32m [repeated 12x across cluster]\u001b[0m\n",
      "\u001b[2m\u001b[36m(RayTrainWorker pid=21467)\u001b[0m   key: \"Toutput_types\"\u001b[32m [repeated 2x across cluster]\u001b[0m\n",
      "\u001b[2m\u001b[36m(RayTrainWorker pid=21467)\u001b[0m   value {\u001b[32m [repeated 12x across cluster]\u001b[0m\n",
      "\u001b[2m\u001b[36m(RayTrainWorker pid=21467)\u001b[0m     list {\u001b[32m [repeated 4x across cluster]\u001b[0m\n",
      "\u001b[2m\u001b[36m(RayTrainWorker pid=21467)\u001b[0m       type: DT_DOUBLE\u001b[32m [repeated 2x across cluster]\u001b[0m\n",
      "\u001b[2m\u001b[36m(RayTrainWorker pid=21467)\u001b[0m       type: DT_UINT8\u001b[32m [repeated 2x across cluster]\u001b[0m\n",
      "\u001b[2m\u001b[36m(RayTrainWorker pid=21467)\u001b[0m }\u001b[32m [repeated 50x across cluster]\u001b[0m\n",
      "\u001b[2m\u001b[36m(RayTrainWorker pid=21467)\u001b[0m   key: \"_cardinality\"\u001b[32m [repeated 2x across cluster]\u001b[0m\n",
      "\u001b[2m\u001b[36m(RayTrainWorker pid=21467)\u001b[0m     i: 10000\u001b[32m [repeated 2x across cluster]\u001b[0m\n",
      "\u001b[2m\u001b[36m(RayTrainWorker pid=21467)\u001b[0m   key: \"is_files\"\u001b[32m [repeated 2x across cluster]\u001b[0m\n",
      "\u001b[2m\u001b[36m(RayTrainWorker pid=21467)\u001b[0m     b: false\u001b[32m [repeated 4x across cluster]\u001b[0m\n",
      "\u001b[2m\u001b[36m(RayTrainWorker pid=21467)\u001b[0m   key: \"metadata\"\u001b[32m [repeated 2x across cluster]\u001b[0m\n",
      "\u001b[2m\u001b[36m(RayTrainWorker pid=21467)\u001b[0m     s: \"\\n\\024TensorSliceDataset:3\"\u001b[32m [repeated 2x across cluster]\u001b[0m\n",
      "\u001b[2m\u001b[36m(RayTrainWorker pid=21467)\u001b[0m   key: \"output_shapes\"\u001b[32m [repeated 2x across cluster]\u001b[0m\n",
      "\u001b[2m\u001b[36m(RayTrainWorker pid=21467)\u001b[0m       shape {\u001b[32m [repeated 4x across cluster]\u001b[0m\n",
      "\u001b[2m\u001b[36m(RayTrainWorker pid=21467)\u001b[0m         dim {\u001b[32m [repeated 4x across cluster]\u001b[0m\n",
      "\u001b[2m\u001b[36m(RayTrainWorker pid=21467)\u001b[0m           size: 28\u001b[32m [repeated 4x across cluster]\u001b[0m\n",
      "\u001b[2m\u001b[36m(RayTrainWorker pid=21467)\u001b[0m   key: \"replicate_on_split\"\u001b[32m [repeated 2x across cluster]\u001b[0m\n",
      "\u001b[2m\u001b[36m(RayTrainWorker pid=21467)\u001b[0m experimental_type {\u001b[32m [repeated 2x across cluster]\u001b[0m\n",
      "\u001b[2m\u001b[36m(RayTrainWorker pid=21467)\u001b[0m       type_id: TFT_PRODUCT\u001b[32m [repeated 4x across cluster]\u001b[0m\n",
      "\u001b[2m\u001b[36m(RayTrainWorker pid=21467)\u001b[0m         args {\u001b[32m [repeated 12x across cluster]\u001b[0m\n",
      "\u001b[2m\u001b[36m(RayTrainWorker pid=21467)\u001b[0m     type_id: TFT_DATASET\u001b[32m [repeated 2x across cluster]\u001b[0m\n",
      "\u001b[2m\u001b[36m(RayTrainWorker pid=21467)\u001b[0m         type_id: TFT_TENSOR\u001b[32m [repeated 4x across cluster]\u001b[0m\n",
      "\u001b[2m\u001b[36m(RayTrainWorker pid=21467)\u001b[0m           type_id: TFT_DOUBLE\u001b[32m [repeated 2x across cluster]\u001b[0m\n",
      "\u001b[2m\u001b[36m(RayTrainWorker pid=21467)\u001b[0m           type_id: TFT_UINT8\u001b[32m [repeated 2x across cluster]\u001b[0m\n",
      "\u001b[2m\u001b[36m(RayTrainWorker pid=21467)\u001b[0m \u001b[32m [repeated 2x across cluster]\u001b[0m\n",
      "\u001b[2m\u001b[36m(RayTrainWorker pid=21467)\u001b[0m 2023-09-06 09:04:42.006199: W tensorflow/core/framework/dataset.cc:956] Input of GeneratorDatasetOp::Dataset will not be optimized because the dataset does not implement the AsGraphDefInternal() method needed to apply optimizations.\u001b[32m [repeated 2x across cluster]\u001b[0m\n"
     ]
    },
    {
     "name": "stdout",
     "output_type": "stream",
     "text": [
      "\u001b[2m\u001b[36m(RayTrainWorker pid=21466)\u001b[0m 1875/1875 - 8s - loss: 0.0834 - accuracy: 0.9740 - 8s/epoch - 4ms/step\n",
      "\u001b[2m\u001b[36m(RayTrainWorker pid=21466)\u001b[0m Final Test Loss: 0.0791, Final Test Accuracy: 0.9756\n"
     ]
    },
    {
     "name": "stderr",
     "output_type": "stream",
     "text": [
      "2023-09-06 09:04:45,187\tINFO tune.py:1148 -- Total run time: 42.58 seconds (41.66 seconds for the tuning loop).\n"
     ]
    }
   ],
   "source": [
    "from ray import air\n",
    "from ray.train.tensorflow import TensorflowTrainer\n",
    "\n",
    "num_workers = 2\n",
    "use_gpu = False\n",
    "\n",
    "trainer = TensorflowTrainer(\n",
    "    train_loop_per_worker=train_func,\n",
    "    train_loop_config={\n",
    "        \"batch_size\": 32,\n",
    "        \"epochs\": 4,\n",
    "    },\n",
    "    scaling_config=air.ScalingConfig(\n",
    "        num_workers=num_workers,\n",
    "        use_gpu=use_gpu,\n",
    "    ),\n",
    ")\n",
    "result = trainer.fit()"
   ]
  },
  {
   "cell_type": "code",
   "execution_count": 12,
   "metadata": {},
   "outputs": [
    {
     "data": {
      "text/plain": [
       "<Axes: xlabel='training_iteration'>"
      ]
     },
     "execution_count": 12,
     "metadata": {},
     "output_type": "execute_result"
    },
    {
     "data": {
      "image/png": "[encoded data removed]",
      "text/plain": [
       "<Figure size 640x480 with 1 Axes>"
      ]
     },
     "metadata": {},
     "output_type": "display_data"
    }
   ],
   "source": [
    "result.metrics_dataframe.plot(\"training_iteration\", \"loss\")"
   ]
  },
  {
   "cell_type": "code",
   "execution_count": null,
   "metadata": {},
   "outputs": [],
   "source": []
  }
 ],
 "metadata": {
  "kernelspec": {
   "display_name": "ray",
   "language": "python",
   "name": "python3"
  },
  "language_info": {
   "codemirror_mode": {
    "name": "ipython",
    "version": 3
   },
   "file_extension": ".py",
   "mimetype": "text/x-python",
   "name": "python",
   "nbconvert_exporter": "python",
   "pygments_lexer": "ipython3",
   "version": "3.9.12"
  },
  "orig_nbformat": 4
 },
 "nbformat": 4,
 "nbformat_minor": 2
}
