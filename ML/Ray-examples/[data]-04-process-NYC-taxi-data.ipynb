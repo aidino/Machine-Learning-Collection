{
 "cells": [
  {
   "cell_type": "markdown",
   "metadata": {},
   "source": [
    "# Processing NYC taxi data using Ray Data\n",
    "\n",
    "The NYC Taxi dataset is a popular tabular dataset. In this example, we demonstrate some basic data processing on this dataset using Ray Data.\n",
    "\n",
    "Source: https://docs.ray.io/en/latest/data/examples/nyc_taxi_basic_processing.html"
   ]
  },
  {
   "cell_type": "code",
   "execution_count": 1,
   "metadata": {},
   "outputs": [],
   "source": [
    "import logging, os, random, warnings\n",
    "import ray\n",
    "\n",
    "warnings.filterwarnings(\"ignore\")\n",
    "os.environ[\"PYTHONWARNINGS\"] = \"ignore\"\n",
    "\n",
    "if ray.is_initialized:\n",
    "    ray.shutdown()\n",
    "ray.init(logging_level=logging.ERROR)\n",
    "ray.data.DataContext.get_current().execution_options.verbose_progress = True"
   ]
  },
  {
   "cell_type": "markdown",
   "metadata": {},
   "source": [
    "## Read datasets"
   ]
  },
  {
   "cell_type": "code",
   "execution_count": 2,
   "metadata": {},
   "outputs": [
    {
     "data": {
      "application/vnd.jupyter.widget-view+json": {
       "model_id": "904a67417ab0432b8a142cfe7b3a4150",
       "version_major": 2,
       "version_minor": 0
      },
      "text/plain": [
       "(pid=181352) Parquet Files Sample 0:   0%|          | 0/1 [00:00<?, ?it/s]"
      ]
     },
     "metadata": {},
     "output_type": "display_data"
    }
   ],
   "source": [
    "ds = ray.data.read_parquet(\"data/yellow_tripdata_2023-02.parquet\")"
   ]
  },
  {
   "cell_type": "code",
   "execution_count": 3,
   "metadata": {},
   "outputs": [
    {
     "data": {
      "text/plain": [
       "Column                 Type\n",
       "------                 ----\n",
       "VendorID               int32\n",
       "tpep_pickup_datetime   timestamp[us]\n",
       "tpep_dropoff_datetime  timestamp[us]\n",
       "passenger_count        int64\n",
       "trip_distance          double\n",
       "RatecodeID             int64\n",
       "store_and_fwd_flag     large_string\n",
       "PULocationID           int32\n",
       "DOLocationID           int32\n",
       "payment_type           int64\n",
       "fare_amount            double\n",
       "extra                  double\n",
       "mta_tax                double\n",
       "tip_amount             double\n",
       "tolls_amount           double\n",
       "improvement_surcharge  double\n",
       "total_amount           double\n",
       "congestion_surcharge   double\n",
       "Airport_fee            double"
      ]
     },
     "execution_count": 3,
     "metadata": {},
     "output_type": "execute_result"
    }
   ],
   "source": [
    "ds.schema()"
   ]
  },
  {
   "cell_type": "code",
   "execution_count": 4,
   "metadata": {},
   "outputs": [
    {
     "data": {
      "text/plain": [
       "2913955"
      ]
     },
     "execution_count": 4,
     "metadata": {},
     "output_type": "execute_result"
    }
   ],
   "source": [
    "ds.count()"
   ]
  },
  {
   "cell_type": "code",
   "execution_count": 5,
   "metadata": {},
   "outputs": [
    {
     "name": "stderr",
     "output_type": "stream",
     "text": [
      "2023-09-06 20:56:31,875\tINFO streaming_executor.py:92 -- Executing DAG InputDataBuffer[Input] -> TaskPoolMapOperator[ReadParquet->SplitBlocks(200)]\n",
      "2023-09-06 20:56:31,876\tINFO streaming_executor.py:93 -- Execution config: ExecutionOptions(resource_limits=ExecutionResources(cpu=None, gpu=None, object_store_memory=None), locality_with_output=False, preserve_order=False, actor_locality_enabled=True, verbose_progress=True)\n"
     ]
    },
    {
     "data": {
      "application/vnd.jupyter.widget-view+json": {
       "model_id": "4fa7ce96e99d49fb9bbe2e20eb11250c",
       "version_major": 2,
       "version_minor": 0
      },
      "text/plain": [
       "- ReadParquet->SplitBlocks(200) 1:   0%|          | 0/200 [00:00<?, ?it/s]"
      ]
     },
     "metadata": {},
     "output_type": "display_data"
    },
    {
     "data": {
      "application/vnd.jupyter.widget-view+json": {
       "model_id": "149b43c71d95446dadf785fe82807187",
       "version_major": 2,
       "version_minor": 0
      },
      "text/plain": [
       "Running 0:   0%|          | 0/200 [00:00<?, ?it/s]"
      ]
     },
     "metadata": {},
     "output_type": "display_data"
    },
    {
     "data": {
      "text/plain": [
       "[{'VendorID': 1,\n",
       "  'tpep_pickup_datetime': datetime.datetime(2023, 2, 1, 0, 32, 53),\n",
       "  'tpep_dropoff_datetime': datetime.datetime(2023, 2, 1, 0, 34, 34),\n",
       "  'passenger_count': 2,\n",
       "  'trip_distance': 0.3,\n",
       "  'RatecodeID': 1,\n",
       "  'store_and_fwd_flag': 'N',\n",
       "  'PULocationID': 142,\n",
       "  'DOLocationID': 163,\n",
       "  'payment_type': 2,\n",
       "  'fare_amount': 4.4,\n",
       "  'extra': 3.5,\n",
       "  'mta_tax': 0.5,\n",
       "  'tip_amount': 0.0,\n",
       "  'tolls_amount': 0.0,\n",
       "  'improvement_surcharge': 1.0,\n",
       "  'total_amount': 9.4,\n",
       "  'congestion_surcharge': 2.5,\n",
       "  'Airport_fee': 0.0}]"
      ]
     },
     "execution_count": 5,
     "metadata": {},
     "output_type": "execute_result"
    }
   ],
   "source": [
    "ds.take(1)"
   ]
  },
  {
   "cell_type": "code",
   "execution_count": 6,
   "metadata": {},
   "outputs": [
    {
     "name": "stdout",
     "output_type": "stream",
     "text": [
      "memory in disk: 398.43 MB\n"
     ]
    },
    {
     "data": {
      "application/vnd.jupyter.widget-view+json": {
       "model_id": "bee08816323b473191c35f4ebcdae404",
       "version_major": 2,
       "version_minor": 0
      },
      "text/plain": [
       "Read progress 0:   0%|          | 0/1 [00:00<?, ?it/s]"
      ]
     },
     "metadata": {},
     "output_type": "display_data"
    },
    {
     "name": "stdout",
     "output_type": "stream",
     "text": [
      "memory in memory: 391.81 MB\n"
     ]
    }
   ],
   "source": [
    "print(f\"memory in disk: {ds.size_bytes()/1024**2:.2f} MB\")\n",
    "print(f\"memory in memory: {ds.materialize().size_bytes()/1024**2:.2f} MB\")"
   ]
  },
  {
   "cell_type": "markdown",
   "metadata": {},
   "source": [
    "## Data Exploration and Cleaning"
   ]
  },
  {
   "cell_type": "code",
   "execution_count": 7,
   "metadata": {},
   "outputs": [
    {
     "name": "stderr",
     "output_type": "stream",
     "text": [
      "2023-09-06 20:56:33,669\tINFO streaming_executor.py:92 -- Executing DAG InputDataBuffer[Input] -> TaskPoolMapOperator[ReadParquet->SplitBlocks(200)] -> AllToAllOperator[Aggregate]\n",
      "2023-09-06 20:56:33,670\tINFO streaming_executor.py:93 -- Execution config: ExecutionOptions(resource_limits=ExecutionResources(cpu=None, gpu=None, object_store_memory=None), locality_with_output=False, preserve_order=False, actor_locality_enabled=True, verbose_progress=True)\n"
     ]
    },
    {
     "data": {
      "application/vnd.jupyter.widget-view+json": {
       "model_id": "59f51f9032f34ff991146da248790707",
       "version_major": 2,
       "version_minor": 0
      },
      "text/plain": [
       "- ReadParquet->SplitBlocks(200) 1:   0%|          | 0/200 [00:00<?, ?it/s]"
      ]
     },
     "metadata": {},
     "output_type": "display_data"
    },
    {
     "data": {
      "application/vnd.jupyter.widget-view+json": {
       "model_id": "d20d1e1fb0704b148e35bc6b747d5db7",
       "version_major": 2,
       "version_minor": 0
      },
      "text/plain": [
       "- Aggregate 2:   0%|          | 0/200 [00:00<?, ?it/s]"
      ]
     },
     "metadata": {},
     "output_type": "display_data"
    },
    {
     "data": {
      "application/vnd.jupyter.widget-view+json": {
       "model_id": "7e0f9d2852684b8188fa4059d4c729c8",
       "version_major": 2,
       "version_minor": 0
      },
      "text/plain": [
       "Shuffle Map 3:   0%|          | 0/200 [00:00<?, ?it/s]"
      ]
     },
     "metadata": {},
     "output_type": "display_data"
    },
    {
     "data": {
      "application/vnd.jupyter.widget-view+json": {
       "model_id": "6ea37f8d1755405eaacb6eb5e54e4ff8",
       "version_major": 2,
       "version_minor": 0
      },
      "text/plain": [
       "Shuffle Reduce 4:   0%|          | 0/200 [00:00<?, ?it/s]"
      ]
     },
     "metadata": {},
     "output_type": "display_data"
    },
    {
     "data": {
      "application/vnd.jupyter.widget-view+json": {
       "model_id": "9d81cd3716744013859ec48f25302080",
       "version_major": 2,
       "version_minor": 0
      },
      "text/plain": [
       "Running 0:   0%|          | 0/200 [00:00<?, ?it/s]"
      ]
     },
     "metadata": {},
     "output_type": "display_data"
    },
    {
     "data": {
      "text/plain": [
       "{'max(trip_distance)': 335004.33,\n",
       " 'max(tip_amount)': 482.9,\n",
       " 'max(passenger_count)': 9}"
      ]
     },
     "execution_count": 7,
     "metadata": {},
     "output_type": "execute_result"
    }
   ],
   "source": [
    "# What's the longets trip distance, largest tip amount, and most number of passengers?\n",
    "ds.max([\"trip_distance\", \"tip_amount\", \"passenger_count\"])"
   ]
  },
  {
   "cell_type": "code",
   "execution_count": 8,
   "metadata": {},
   "outputs": [],
   "source": [
    "# Drop some columns.\n",
    "ds = ds.drop_columns([\"store_and_fwd_flag\", \"mta_tax\"])"
   ]
  },
  {
   "cell_type": "code",
   "execution_count": 9,
   "metadata": {},
   "outputs": [],
   "source": [
    "# ds.groupby(\"passenger_count\").count().take()"
   ]
  },
  {
   "cell_type": "code",
   "execution_count": 10,
   "metadata": {},
   "outputs": [],
   "source": [
    "# Filter our records with negative passenger counts.\n",
    "ds = ds.map_batches(lambda df: df[df[\"passenger_count\"] > 0])"
   ]
  },
  {
   "cell_type": "code",
   "execution_count": 12,
   "metadata": {},
   "outputs": [
    {
     "name": "stderr",
     "output_type": "stream",
     "text": [
      "2023-09-06 20:59:45,374\tINFO streaming_executor.py:92 -- Executing DAG InputDataBuffer[Input] -> TaskPoolMapOperator[ReadParquet->SplitBlocks(200)] -> TaskPoolMapOperator[MapBatches(<lambda>)->MapBatches(<lambda>)] -> LimitOperator[limit=1]\n",
      "2023-09-06 20:59:45,375\tINFO streaming_executor.py:93 -- Execution config: ExecutionOptions(resource_limits=ExecutionResources(cpu=None, gpu=None, object_store_memory=None), locality_with_output=False, preserve_order=False, actor_locality_enabled=True, verbose_progress=True)\n"
     ]
    },
    {
     "data": {
      "application/vnd.jupyter.widget-view+json": {
       "model_id": "7d4c0dc9d3014c849d6349fb84f7754c",
       "version_major": 2,
       "version_minor": 0
      },
      "text/plain": [
       "- ReadParquet->SplitBlocks(200) 1:   0%|          | 0/200 [00:00<?, ?it/s]"
      ]
     },
     "metadata": {},
     "output_type": "display_data"
    },
    {
     "data": {
      "application/vnd.jupyter.widget-view+json": {
       "model_id": "89c8dcb70e9e4be2b3546edafcdd83c1",
       "version_major": 2,
       "version_minor": 0
      },
      "text/plain": [
       "- MapBatches(<lambda>)->MapBatches(<lambda>) 2:   0%|          | 0/200 [00:00<?, ?it/s]"
      ]
     },
     "metadata": {},
     "output_type": "display_data"
    },
    {
     "data": {
      "application/vnd.jupyter.widget-view+json": {
       "model_id": "6deb5e58759941078e36fb2038a01e97",
       "version_major": 2,
       "version_minor": 0
      },
      "text/plain": [
       "- limit=1 3:   0%|          | 0/1 [00:00<?, ?it/s]"
      ]
     },
     "metadata": {},
     "output_type": "display_data"
    },
    {
     "data": {
      "application/vnd.jupyter.widget-view+json": {
       "model_id": "e4b124a538ba4b2ca640a122a509dba9",
       "version_major": 2,
       "version_minor": 0
      },
      "text/plain": [
       "Running 0:   0%|          | 0/1 [00:00<?, ?it/s]"
      ]
     },
     "metadata": {},
     "output_type": "display_data"
    },
    {
     "name": "stderr",
     "output_type": "stream",
     "text": [
      "\u001b[2m\u001b[36m(MapBatches(<lambda>)->MapBatches(<lambda>) pid=181356)\u001b[0m Task failed with retryable exception: TaskID(f3bc455c6d4ed1faffffffffffffffffffffffff01000000).\n",
      "\u001b[2m\u001b[36m(MapBatches(<lambda>)->MapBatches(<lambda>) pid=181356)\u001b[0m Traceback (most recent call last):\n",
      "\u001b[2m\u001b[36m(MapBatches(<lambda>)->MapBatches(<lambda>) pid=181356)\u001b[0m   File \"python/ray/_raylet.pyx\", line 1191, in ray._raylet.execute_dynamic_generator_and_store_task_outputs\n",
      "\u001b[2m\u001b[36m(MapBatches(<lambda>)->MapBatches(<lambda>) pid=181356)\u001b[0m   File \"python/ray/_raylet.pyx\", line 3684, in ray._raylet.CoreWorker.store_task_outputs\n",
      "\u001b[2m\u001b[36m(MapBatches(<lambda>)->MapBatches(<lambda>) pid=181356)\u001b[0m   File \"/home/dino/anaconda3/envs/ray/lib/python3.9/site-packages/ray/data/_internal/execution/operators/map_operator.py\", line 415, in _map_task\n",
      "\u001b[2m\u001b[36m(MapBatches(<lambda>)->MapBatches(<lambda>) pid=181356)\u001b[0m     for b_out in fn(iter(blocks), ctx):\n",
      "\u001b[2m\u001b[36m(MapBatches(<lambda>)->MapBatches(<lambda>) pid=181356)\u001b[0m   File \"/home/dino/anaconda3/envs/ray/lib/python3.9/site-packages/ray/data/_internal/planner/plan_udf_map_op.py\", line 76, in do_map\n",
      "\u001b[2m\u001b[36m(MapBatches(<lambda>)->MapBatches(<lambda>) pid=181356)\u001b[0m     yield from transform_fn(blocks, ctx, *fn_args, **fn_kwargs)\n",
      "\u001b[2m\u001b[36m(MapBatches(<lambda>)->MapBatches(<lambda>) pid=181356)\u001b[0m   File \"/home/dino/anaconda3/envs/ray/lib/python3.9/site-packages/ray/data/_internal/planner/map_batches.py\", line 118, in fn\n",
      "\u001b[2m\u001b[36m(MapBatches(<lambda>)->MapBatches(<lambda>) pid=181356)\u001b[0m     yield from process_next_batch(batch)\n",
      "\u001b[2m\u001b[36m(MapBatches(<lambda>)->MapBatches(<lambda>) pid=181356)\u001b[0m   File \"/home/dino/anaconda3/envs/ray/lib/python3.9/site-packages/ray/data/_internal/planner/map_batches.py\", line 79, in process_next_batch\n",
      "\u001b[2m\u001b[36m(MapBatches(<lambda>)->MapBatches(<lambda>) pid=181356)\u001b[0m     batch = batch_fn(batch, *fn_args, **fn_kwargs)\n",
      "\u001b[2m\u001b[36m(MapBatches(<lambda>)->MapBatches(<lambda>) pid=181356)\u001b[0m   File \"/tmp/ipykernel_180920/2032168200.py\", line 2, in <lambda>\n",
      "\u001b[2m\u001b[36m(MapBatches(<lambda>)->MapBatches(<lambda>) pid=181356)\u001b[0m TypeError: unhashable type: 'numpy.ndarray'\n"
     ]
    },
    {
     "ename": "RayTaskError(TypeError)",
     "evalue": "\u001b[36mray::MapBatches(<lambda>)->MapBatches(<lambda>)()\u001b[39m (pid=181368, ip=192.168.1.147)\n  File \"/home/dino/anaconda3/envs/ray/lib/python3.9/site-packages/ray/data/_internal/execution/operators/map_operator.py\", line 415, in _map_task\n    for b_out in fn(iter(blocks), ctx):\n  File \"/home/dino/anaconda3/envs/ray/lib/python3.9/site-packages/ray/data/_internal/planner/plan_udf_map_op.py\", line 76, in do_map\n    yield from transform_fn(blocks, ctx, *fn_args, **fn_kwargs)\n  File \"/home/dino/anaconda3/envs/ray/lib/python3.9/site-packages/ray/data/_internal/planner/map_batches.py\", line 118, in fn\n    yield from process_next_batch(batch)\n  File \"/home/dino/anaconda3/envs/ray/lib/python3.9/site-packages/ray/data/_internal/planner/map_batches.py\", line 79, in process_next_batch\n    batch = batch_fn(batch, *fn_args, **fn_kwargs)\n  File \"/tmp/ipykernel_180920/2032168200.py\", line 2, in <lambda>\nTypeError: unhashable type: 'numpy.ndarray'",
     "output_type": "error",
     "traceback": [
      "\u001b[0;31m---------------------------------------------------------------------------\u001b[0m",
      "\u001b[0;31mRayTaskError(TypeError)\u001b[0m                   Traceback (most recent call last)",
      "Cell \u001b[0;32mIn[12], line 2\u001b[0m\n\u001b[1;32m      1\u001b[0m \u001b[39m# Mean trip distance grouped by passenger count.\u001b[39;00m\n\u001b[0;32m----> 2\u001b[0m ds\u001b[39m.\u001b[39;49mgroupby(\u001b[39m\"\u001b[39;49m\u001b[39mpassenger_count\u001b[39;49m\u001b[39m\"\u001b[39;49m)\u001b[39m.\u001b[39mmean(\u001b[39m\"\u001b[39m\u001b[39mtrip_distance\u001b[39m\u001b[39m\"\u001b[39m)\u001b[39m.\u001b[39mtake()\n",
      "File \u001b[0;32m~/anaconda3/envs/ray/lib/python3.9/site-packages/ray/data/dataset.py:1728\u001b[0m, in \u001b[0;36mDataset.groupby\u001b[0;34m(self, key)\u001b[0m\n\u001b[1;32m   1725\u001b[0m \u001b[39m# Always allow None since groupby interprets that as grouping all\u001b[39;00m\n\u001b[1;32m   1726\u001b[0m \u001b[39m# records into a single global group.\u001b[39;00m\n\u001b[1;32m   1727\u001b[0m \u001b[39mif\u001b[39;00m key \u001b[39mis\u001b[39;00m \u001b[39mnot\u001b[39;00m \u001b[39mNone\u001b[39;00m:\n\u001b[0;32m-> 1728\u001b[0m     _validate_key_fn(\u001b[39mself\u001b[39;49m\u001b[39m.\u001b[39;49mschema(fetch_if_missing\u001b[39m=\u001b[39;49m\u001b[39mTrue\u001b[39;49;00m), key)\n\u001b[1;32m   1730\u001b[0m \u001b[39mreturn\u001b[39;00m GroupedData(\u001b[39mself\u001b[39m, key)\n",
      "File \u001b[0;32m~/anaconda3/envs/ray/lib/python3.9/site-packages/ray/data/dataset.py:2305\u001b[0m, in \u001b[0;36mDataset.schema\u001b[0;34m(self, fetch_if_missing)\u001b[0m\n\u001b[1;32m   2300\u001b[0m     \u001b[39mreturn\u001b[39;00m \u001b[39mNone\u001b[39;00m\n\u001b[1;32m   2302\u001b[0m \u001b[39m# Lazily execute only the first block to minimize computation.\u001b[39;00m\n\u001b[1;32m   2303\u001b[0m \u001b[39m# We achieve this by appending a Limit[1] operation to a copy\u001b[39;00m\n\u001b[1;32m   2304\u001b[0m \u001b[39m# of this Dataset, which we then execute to get its schema.\u001b[39;00m\n\u001b[0;32m-> 2305\u001b[0m base_schema \u001b[39m=\u001b[39m \u001b[39mself\u001b[39;49m\u001b[39m.\u001b[39;49mlimit(\u001b[39m1\u001b[39;49m)\u001b[39m.\u001b[39;49m_plan\u001b[39m.\u001b[39;49mschema(fetch_if_missing\u001b[39m=\u001b[39;49mfetch_if_missing)\n\u001b[1;32m   2306\u001b[0m \u001b[39mif\u001b[39;00m base_schema:\n\u001b[1;32m   2307\u001b[0m     \u001b[39mself\u001b[39m\u001b[39m.\u001b[39m_plan\u001b[39m.\u001b[39mcache_schema(base_schema)\n",
      "File \u001b[0;32m~/anaconda3/envs/ray/lib/python3.9/site-packages/ray/data/_internal/plan.py:405\u001b[0m, in \u001b[0;36mExecutionPlan.schema\u001b[0;34m(self, fetch_if_missing)\u001b[0m\n\u001b[1;32m    403\u001b[0m             \u001b[39mself\u001b[39m\u001b[39m.\u001b[39m_stages_after_snapshot\u001b[39m.\u001b[39mappend(a)\n\u001b[1;32m    404\u001b[0m     \u001b[39melse\u001b[39;00m:\n\u001b[0;32m--> 405\u001b[0m         \u001b[39mself\u001b[39;49m\u001b[39m.\u001b[39;49mexecute()\n\u001b[1;32m    406\u001b[0m \u001b[39melif\u001b[39;00m \u001b[39mlen\u001b[39m(\u001b[39mself\u001b[39m\u001b[39m.\u001b[39m_stages_after_snapshot) \u001b[39m==\u001b[39m \u001b[39m1\u001b[39m \u001b[39mand\u001b[39;00m \u001b[39misinstance\u001b[39m(\n\u001b[1;32m    407\u001b[0m     \u001b[39mself\u001b[39m\u001b[39m.\u001b[39m_stages_after_snapshot[\u001b[39m-\u001b[39m\u001b[39m1\u001b[39m], RandomizeBlocksStage\n\u001b[1;32m    408\u001b[0m ):\n\u001b[1;32m    409\u001b[0m     \u001b[39m# If RandomizeBlocksStage is last stage, we execute it (regardless of\u001b[39;00m\n\u001b[1;32m    410\u001b[0m     \u001b[39m# the fetch_if_missing), since RandomizeBlocksStage is just changing\u001b[39;00m\n\u001b[1;32m    411\u001b[0m     \u001b[39m# the order of references (hence super cheap).\u001b[39;00m\n\u001b[1;32m    412\u001b[0m     \u001b[39mself\u001b[39m\u001b[39m.\u001b[39mexecute()\n",
      "File \u001b[0;32m~/anaconda3/envs/ray/lib/python3.9/site-packages/ray/data/_internal/plan.py:591\u001b[0m, in \u001b[0;36mExecutionPlan.execute\u001b[0;34m(self, allow_clear_input_blocks, force_read, preserve_order)\u001b[0m\n\u001b[1;32m    589\u001b[0m \u001b[39melse\u001b[39;00m:\n\u001b[1;32m    590\u001b[0m     executor \u001b[39m=\u001b[39m BulkExecutor(copy\u001b[39m.\u001b[39mdeepcopy(context\u001b[39m.\u001b[39mexecution_options))\n\u001b[0;32m--> 591\u001b[0m blocks \u001b[39m=\u001b[39m execute_to_legacy_block_list(\n\u001b[1;32m    592\u001b[0m     executor,\n\u001b[1;32m    593\u001b[0m     \u001b[39mself\u001b[39;49m,\n\u001b[1;32m    594\u001b[0m     allow_clear_input_blocks\u001b[39m=\u001b[39;49mallow_clear_input_blocks,\n\u001b[1;32m    595\u001b[0m     dataset_uuid\u001b[39m=\u001b[39;49m\u001b[39mself\u001b[39;49m\u001b[39m.\u001b[39;49m_dataset_uuid,\n\u001b[1;32m    596\u001b[0m     preserve_order\u001b[39m=\u001b[39;49mpreserve_order,\n\u001b[1;32m    597\u001b[0m )\n\u001b[1;32m    598\u001b[0m \u001b[39m# TODO(ekl) we shouldn't need to set this in the future once we move\u001b[39;00m\n\u001b[1;32m    599\u001b[0m \u001b[39m# to a fully lazy execution model, unless .materialize() is used. Th\u001b[39;00m\n\u001b[1;32m    600\u001b[0m \u001b[39m# reason we need it right now is since the user may iterate over a\u001b[39;00m\n\u001b[1;32m    601\u001b[0m \u001b[39m# Dataset multiple times after fully executing it once.\u001b[39;00m\n\u001b[1;32m    602\u001b[0m \u001b[39mif\u001b[39;00m \u001b[39mnot\u001b[39;00m \u001b[39mself\u001b[39m\u001b[39m.\u001b[39m_run_by_consumer:\n",
      "File \u001b[0;32m~/anaconda3/envs/ray/lib/python3.9/site-packages/ray/data/_internal/execution/legacy_compat.py:116\u001b[0m, in \u001b[0;36mexecute_to_legacy_block_list\u001b[0;34m(executor, plan, allow_clear_input_blocks, dataset_uuid, preserve_order)\u001b[0m\n\u001b[1;32m    109\u001b[0m dag, stats \u001b[39m=\u001b[39m _get_execution_dag(\n\u001b[1;32m    110\u001b[0m     executor,\n\u001b[1;32m    111\u001b[0m     plan,\n\u001b[1;32m    112\u001b[0m     allow_clear_input_blocks,\n\u001b[1;32m    113\u001b[0m     preserve_order,\n\u001b[1;32m    114\u001b[0m )\n\u001b[1;32m    115\u001b[0m bundles \u001b[39m=\u001b[39m executor\u001b[39m.\u001b[39mexecute(dag, initial_stats\u001b[39m=\u001b[39mstats)\n\u001b[0;32m--> 116\u001b[0m block_list \u001b[39m=\u001b[39m _bundles_to_block_list(bundles)\n\u001b[1;32m    117\u001b[0m \u001b[39m# Set the stats UUID after execution finishes.\u001b[39;00m\n\u001b[1;32m    118\u001b[0m _set_stats_uuid_recursive(executor\u001b[39m.\u001b[39mget_stats(), dataset_uuid)\n",
      "File \u001b[0;32m~/anaconda3/envs/ray/lib/python3.9/site-packages/ray/data/_internal/execution/legacy_compat.py:349\u001b[0m, in \u001b[0;36m_bundles_to_block_list\u001b[0;34m(bundles)\u001b[0m\n\u001b[1;32m    347\u001b[0m blocks, metadata \u001b[39m=\u001b[39m [], []\n\u001b[1;32m    348\u001b[0m owns_blocks \u001b[39m=\u001b[39m \u001b[39mTrue\u001b[39;00m\n\u001b[0;32m--> 349\u001b[0m \u001b[39mfor\u001b[39;00m ref_bundle \u001b[39min\u001b[39;00m bundles:\n\u001b[1;32m    350\u001b[0m     \u001b[39mif\u001b[39;00m \u001b[39mnot\u001b[39;00m ref_bundle\u001b[39m.\u001b[39mowns_blocks:\n\u001b[1;32m    351\u001b[0m         owns_blocks \u001b[39m=\u001b[39m \u001b[39mFalse\u001b[39;00m\n",
      "File \u001b[0;32m~/anaconda3/envs/ray/lib/python3.9/site-packages/ray/data/_internal/execution/interfaces.py:548\u001b[0m, in \u001b[0;36mOutputIterator.__next__\u001b[0;34m(self)\u001b[0m\n\u001b[1;32m    547\u001b[0m \u001b[39mdef\u001b[39;00m \u001b[39m__next__\u001b[39m(\u001b[39mself\u001b[39m) \u001b[39m-\u001b[39m\u001b[39m>\u001b[39m RefBundle:\n\u001b[0;32m--> 548\u001b[0m     \u001b[39mreturn\u001b[39;00m \u001b[39mself\u001b[39;49m\u001b[39m.\u001b[39;49mget_next()\n",
      "File \u001b[0;32m~/anaconda3/envs/ray/lib/python3.9/site-packages/ray/data/_internal/execution/streaming_executor.py:129\u001b[0m, in \u001b[0;36mStreamingExecutor.execute.<locals>.StreamIterator.get_next\u001b[0;34m(self, output_split_idx)\u001b[0m\n\u001b[1;32m    127\u001b[0m         \u001b[39mraise\u001b[39;00m \u001b[39mStopIteration\u001b[39;00m\n\u001b[1;32m    128\u001b[0m \u001b[39melif\u001b[39;00m \u001b[39misinstance\u001b[39m(item, \u001b[39mException\u001b[39;00m):\n\u001b[0;32m--> 129\u001b[0m     \u001b[39mraise\u001b[39;00m item\n\u001b[1;32m    130\u001b[0m \u001b[39melse\u001b[39;00m:\n\u001b[1;32m    131\u001b[0m     \u001b[39m# Otherwise return a concrete RefBundle.\u001b[39;00m\n\u001b[1;32m    132\u001b[0m     \u001b[39mif\u001b[39;00m \u001b[39mself\u001b[39m\u001b[39m.\u001b[39m_outer\u001b[39m.\u001b[39m_global_info:\n",
      "File \u001b[0;32m~/anaconda3/envs/ray/lib/python3.9/site-packages/ray/data/_internal/execution/streaming_executor.py:187\u001b[0m, in \u001b[0;36mStreamingExecutor.run\u001b[0;34m(self)\u001b[0m\n\u001b[1;32m    181\u001b[0m \u001b[39m\u001b[39m\u001b[39m\"\"\"Run the control loop in a helper thread.\u001b[39;00m\n\u001b[1;32m    182\u001b[0m \n\u001b[1;32m    183\u001b[0m \u001b[39mResults are returned via the output node's outqueue.\u001b[39;00m\n\u001b[1;32m    184\u001b[0m \u001b[39m\"\"\"\u001b[39;00m\n\u001b[1;32m    185\u001b[0m \u001b[39mtry\u001b[39;00m:\n\u001b[1;32m    186\u001b[0m     \u001b[39m# Run scheduling loop until complete.\u001b[39;00m\n\u001b[0;32m--> 187\u001b[0m     \u001b[39mwhile\u001b[39;00m \u001b[39mself\u001b[39;49m\u001b[39m.\u001b[39;49m_scheduling_loop_step(\u001b[39mself\u001b[39;49m\u001b[39m.\u001b[39;49m_topology) \u001b[39mand\u001b[39;00m \u001b[39mnot\u001b[39;00m \u001b[39mself\u001b[39m\u001b[39m.\u001b[39m_shutdown:\n\u001b[1;32m    188\u001b[0m         \u001b[39mpass\u001b[39;00m\n\u001b[1;32m    189\u001b[0m \u001b[39mexcept\u001b[39;00m \u001b[39mException\u001b[39;00m \u001b[39mas\u001b[39;00m e:\n\u001b[1;32m    190\u001b[0m     \u001b[39m# Propagate it to the result iterator.\u001b[39;00m\n",
      "File \u001b[0;32m~/anaconda3/envs/ray/lib/python3.9/site-packages/ray/data/_internal/execution/streaming_executor.py:235\u001b[0m, in \u001b[0;36mStreamingExecutor._scheduling_loop_step\u001b[0;34m(self, topology)\u001b[0m\n\u001b[1;32m    230\u001b[0m     logger\u001b[39m.\u001b[39mget_logger()\u001b[39m.\u001b[39minfo(\u001b[39m\"\u001b[39m\u001b[39mScheduling loop step...\u001b[39m\u001b[39m\"\u001b[39m)\n\u001b[1;32m    232\u001b[0m \u001b[39m# Note: calling process_completed_tasks() is expensive since it incurs\u001b[39;00m\n\u001b[1;32m    233\u001b[0m \u001b[39m# ray.wait() overhead, so make sure to allow multiple dispatch per call for\u001b[39;00m\n\u001b[1;32m    234\u001b[0m \u001b[39m# greater parallelism.\u001b[39;00m\n\u001b[0;32m--> 235\u001b[0m process_completed_tasks(topology)\n\u001b[1;32m    237\u001b[0m \u001b[39m# Dispatch as many operators as we can for completed tasks.\u001b[39;00m\n\u001b[1;32m    238\u001b[0m limits \u001b[39m=\u001b[39m \u001b[39mself\u001b[39m\u001b[39m.\u001b[39m_get_or_refresh_resource_limits()\n",
      "File \u001b[0;32m~/anaconda3/envs/ray/lib/python3.9/site-packages/ray/data/_internal/execution/streaming_executor_state.py:333\u001b[0m, in \u001b[0;36mprocess_completed_tasks\u001b[0;34m(topology)\u001b[0m\n\u001b[1;32m    331\u001b[0m     \u001b[39mfor\u001b[39;00m ref \u001b[39min\u001b[39;00m completed:\n\u001b[1;32m    332\u001b[0m         op \u001b[39m=\u001b[39m active_tasks\u001b[39m.\u001b[39mpop(ref)\n\u001b[0;32m--> 333\u001b[0m         op\u001b[39m.\u001b[39;49mnotify_work_completed(ref)\n\u001b[1;32m    335\u001b[0m \u001b[39m# Pull any operator outputs into the streaming op state.\u001b[39;00m\n\u001b[1;32m    336\u001b[0m \u001b[39mfor\u001b[39;00m op, op_state \u001b[39min\u001b[39;00m topology\u001b[39m.\u001b[39mitems():\n",
      "File \u001b[0;32m~/anaconda3/envs/ray/lib/python3.9/site-packages/ray/data/_internal/execution/operators/task_pool_map_operator.py:65\u001b[0m, in \u001b[0;36mTaskPoolMapOperator.notify_work_completed\u001b[0;34m(self, ref)\u001b[0m\n\u001b[1;32m     63\u001b[0m \u001b[39mdef\u001b[39;00m \u001b[39mnotify_work_completed\u001b[39m(\u001b[39mself\u001b[39m, ref: ObjectRef[ObjectRefGenerator]):\n\u001b[1;32m     64\u001b[0m     task: _TaskState \u001b[39m=\u001b[39m \u001b[39mself\u001b[39m\u001b[39m.\u001b[39m_tasks\u001b[39m.\u001b[39mpop(ref)\n\u001b[0;32m---> 65\u001b[0m     task\u001b[39m.\u001b[39moutput \u001b[39m=\u001b[39m \u001b[39mself\u001b[39;49m\u001b[39m.\u001b[39;49m_map_ref_to_ref_bundle(ref)\n\u001b[1;32m     66\u001b[0m     \u001b[39mself\u001b[39m\u001b[39m.\u001b[39m_handle_task_done(task)\n",
      "File \u001b[0;32m~/anaconda3/envs/ray/lib/python3.9/site-packages/ray/data/_internal/execution/operators/map_operator.py:357\u001b[0m, in \u001b[0;36mMapOperator._map_ref_to_ref_bundle\u001b[0;34m(ref)\u001b[0m\n\u001b[1;32m    350\u001b[0m \u001b[39m@staticmethod\u001b[39m\n\u001b[1;32m    351\u001b[0m \u001b[39mdef\u001b[39;00m \u001b[39m_map_ref_to_ref_bundle\u001b[39m(ref: ObjectRef[ObjectRefGenerator]) \u001b[39m-\u001b[39m\u001b[39m>\u001b[39m RefBundle:\n\u001b[1;32m    352\u001b[0m \u001b[39m    \u001b[39m\u001b[39m\"\"\"Utility for converting a generator ref to a RefBundle.\u001b[39;00m\n\u001b[1;32m    353\u001b[0m \n\u001b[1;32m    354\u001b[0m \u001b[39m    This function blocks on the completion of the underlying generator task via\u001b[39;00m\n\u001b[1;32m    355\u001b[0m \u001b[39m    ray.get().\u001b[39;00m\n\u001b[1;32m    356\u001b[0m \u001b[39m    \"\"\"\u001b[39;00m\n\u001b[0;32m--> 357\u001b[0m     all_refs \u001b[39m=\u001b[39m \u001b[39mlist\u001b[39m(ray\u001b[39m.\u001b[39;49mget(ref))\n\u001b[1;32m    358\u001b[0m     \u001b[39mdel\u001b[39;00m ref\n\u001b[1;32m    359\u001b[0m     block_refs \u001b[39m=\u001b[39m all_refs[:\u001b[39m-\u001b[39m\u001b[39m1\u001b[39m]\n",
      "File \u001b[0;32m~/anaconda3/envs/ray/lib/python3.9/site-packages/ray/_private/auto_init_hook.py:24\u001b[0m, in \u001b[0;36mwrap_auto_init.<locals>.auto_init_wrapper\u001b[0;34m(*args, **kwargs)\u001b[0m\n\u001b[1;32m     21\u001b[0m \u001b[39m@wraps\u001b[39m(fn)\n\u001b[1;32m     22\u001b[0m \u001b[39mdef\u001b[39;00m \u001b[39mauto_init_wrapper\u001b[39m(\u001b[39m*\u001b[39margs, \u001b[39m*\u001b[39m\u001b[39m*\u001b[39mkwargs):\n\u001b[1;32m     23\u001b[0m     auto_init_ray()\n\u001b[0;32m---> 24\u001b[0m     \u001b[39mreturn\u001b[39;00m fn(\u001b[39m*\u001b[39;49margs, \u001b[39m*\u001b[39;49m\u001b[39m*\u001b[39;49mkwargs)\n",
      "File \u001b[0;32m~/anaconda3/envs/ray/lib/python3.9/site-packages/ray/_private/client_mode_hook.py:103\u001b[0m, in \u001b[0;36mclient_mode_hook.<locals>.wrapper\u001b[0;34m(*args, **kwargs)\u001b[0m\n\u001b[1;32m    101\u001b[0m     \u001b[39mif\u001b[39;00m func\u001b[39m.\u001b[39m\u001b[39m__name__\u001b[39m \u001b[39m!=\u001b[39m \u001b[39m\"\u001b[39m\u001b[39minit\u001b[39m\u001b[39m\"\u001b[39m \u001b[39mor\u001b[39;00m is_client_mode_enabled_by_default:\n\u001b[1;32m    102\u001b[0m         \u001b[39mreturn\u001b[39;00m \u001b[39mgetattr\u001b[39m(ray, func\u001b[39m.\u001b[39m\u001b[39m__name__\u001b[39m)(\u001b[39m*\u001b[39margs, \u001b[39m*\u001b[39m\u001b[39m*\u001b[39mkwargs)\n\u001b[0;32m--> 103\u001b[0m \u001b[39mreturn\u001b[39;00m func(\u001b[39m*\u001b[39;49margs, \u001b[39m*\u001b[39;49m\u001b[39m*\u001b[39;49mkwargs)\n",
      "File \u001b[0;32m~/anaconda3/envs/ray/lib/python3.9/site-packages/ray/_private/worker.py:2524\u001b[0m, in \u001b[0;36mget\u001b[0;34m(object_refs, timeout)\u001b[0m\n\u001b[1;32m   2522\u001b[0m     worker\u001b[39m.\u001b[39mcore_worker\u001b[39m.\u001b[39mdump_object_store_memory_usage()\n\u001b[1;32m   2523\u001b[0m \u001b[39mif\u001b[39;00m \u001b[39misinstance\u001b[39m(value, RayTaskError):\n\u001b[0;32m-> 2524\u001b[0m     \u001b[39mraise\u001b[39;00m value\u001b[39m.\u001b[39mas_instanceof_cause()\n\u001b[1;32m   2525\u001b[0m \u001b[39melse\u001b[39;00m:\n\u001b[1;32m   2526\u001b[0m     \u001b[39mraise\u001b[39;00m value\n",
      "\u001b[0;31mRayTaskError(TypeError)\u001b[0m: \u001b[36mray::MapBatches(<lambda>)->MapBatches(<lambda>)()\u001b[39m (pid=181368, ip=192.168.1.147)\n  File \"/home/dino/anaconda3/envs/ray/lib/python3.9/site-packages/ray/data/_internal/execution/operators/map_operator.py\", line 415, in _map_task\n    for b_out in fn(iter(blocks), ctx):\n  File \"/home/dino/anaconda3/envs/ray/lib/python3.9/site-packages/ray/data/_internal/planner/plan_udf_map_op.py\", line 76, in do_map\n    yield from transform_fn(blocks, ctx, *fn_args, **fn_kwargs)\n  File \"/home/dino/anaconda3/envs/ray/lib/python3.9/site-packages/ray/data/_internal/planner/map_batches.py\", line 118, in fn\n    yield from process_next_batch(batch)\n  File \"/home/dino/anaconda3/envs/ray/lib/python3.9/site-packages/ray/data/_internal/planner/map_batches.py\", line 79, in process_next_batch\n    batch = batch_fn(batch, *fn_args, **fn_kwargs)\n  File \"/tmp/ipykernel_180920/2032168200.py\", line 2, in <lambda>\nTypeError: unhashable type: 'numpy.ndarray'"
     ]
    }
   ],
   "source": [
    "# Mean trip distance grouped by passenger count.\n",
    "ds.groupby(\"passenger_count\").mean(\"trip_distance\").take()"
   ]
  },
  {
   "cell_type": "code",
   "execution_count": 13,
   "metadata": {},
   "outputs": [],
   "source": [
    "ray.shutdown()"
   ]
  },
  {
   "cell_type": "code",
   "execution_count": null,
   "metadata": {},
   "outputs": [],
   "source": []
  }
 ],
 "metadata": {
  "kernelspec": {
   "display_name": "ray",
   "language": "python",
   "name": "python3"
  },
  "language_info": {
   "codemirror_mode": {
    "name": "ipython",
    "version": 3
   },
   "file_extension": ".py",
   "mimetype": "text/x-python",
   "name": "python",
   "nbconvert_exporter": "python",
   "pygments_lexer": "ipython3",
   "version": "3.9.12"
  },
  "orig_nbformat": 4
 },
 "nbformat": 4,
 "nbformat_minor": 2
}
