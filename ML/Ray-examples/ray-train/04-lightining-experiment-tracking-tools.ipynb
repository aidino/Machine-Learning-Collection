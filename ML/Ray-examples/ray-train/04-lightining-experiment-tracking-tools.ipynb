{
 "cells": [
  {
   "cell_type": "markdown",
   "metadata": {},
   "source": [
    "# Using Experiment Tracking Tools in LightningTrainer\n",
    "\n",
    "- `W&B`, `CometML`, `MLFlow`, and `Tensorboard` are all popular tools in the field of machine learning for managing, visualizing, and tracking experiments. \n",
    "\n",
    "The `LightningTrainer` integration in Ray AIR allows you to continue using these built-in experiment tracking integrations."
   ]
  },
  {
   "cell_type": "code",
   "execution_count": null,
   "metadata": {},
   "outputs": [],
   "source": []
  }
 ],
 "metadata": {
  "language_info": {
   "name": "python"
  },
  "orig_nbformat": 4
 },
 "nbformat": 4,
 "nbformat_minor": 2
}
