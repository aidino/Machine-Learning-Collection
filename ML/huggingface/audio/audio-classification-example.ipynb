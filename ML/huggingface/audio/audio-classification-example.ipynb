{
 "cells": [
  {
   "cell_type": "markdown",
   "metadata": {},
   "source": [
    "# Audio classification from scratch"
   ]
  },
  {
   "cell_type": "markdown",
   "metadata": {},
   "source": [
    "## Load data"
   ]
  },
  {
   "cell_type": "code",
   "execution_count": 14,
   "metadata": {},
   "outputs": [
    {
     "data": {
      "text/plain": [
       "Dataset({\n",
       "    features: ['path', 'audio', 'transcription', 'english_transcription', 'intent_class', 'lang_id'],\n",
       "    num_rows: 654\n",
       "})"
      ]
     },
     "execution_count": 14,
     "metadata": {},
     "output_type": "execute_result"
    }
   ],
   "source": [
    "from datasets import load_dataset\n",
    "from datasets import Audio\n",
    "\n",
    "# Load \"PolyAI/minds14\" dataset\n",
    "\n",
    "minds = load_dataset(\"PolyAI/minds14\", name=\"en-AU\", split=\"train\")\n",
    "minds"
   ]
  },
  {
   "cell_type": "code",
   "execution_count": 15,
   "metadata": {},
   "outputs": [
    {
     "data": {
      "text/plain": [
       "{'path': '/home/mpp/.cache/huggingface/datasets/downloads/extracted/9ab7eb46ae068511cd333afda67d68200178ff794ae6e73c1c1966ecb33eacac/en-AU~PAY_BILL/response_4.wav',\n",
       " 'audio': {'path': '/home/mpp/.cache/huggingface/datasets/downloads/extracted/9ab7eb46ae068511cd333afda67d68200178ff794ae6e73c1c1966ecb33eacac/en-AU~PAY_BILL/response_4.wav',\n",
       "  'array': array([ 0.        ,  0.00024414, -0.00024414, ..., -0.00024414,\n",
       "          0.00024414,  0.0012207 ]),\n",
       "  'sampling_rate': 8000},\n",
       " 'transcription': 'I would like to pay my electricity bill using my card can you please assist',\n",
       " 'english_transcription': 'I would like to pay my electricity bill using my card can you please assist',\n",
       " 'intent_class': 13,\n",
       " 'lang_id': 2}"
      ]
     },
     "execution_count": 15,
     "metadata": {},
     "output_type": "execute_result"
    }
   ],
   "source": [
    "minds[0]"
   ]
  },
  {
   "cell_type": "code",
   "execution_count": 16,
   "metadata": {},
   "outputs": [
    {
     "data": {
      "text/html": [
       "<div>\n",
       "<style scoped>\n",
       "    .dataframe tbody tr th:only-of-type {\n",
       "        vertical-align: middle;\n",
       "    }\n",
       "\n",
       "    .dataframe tbody tr th {\n",
       "        vertical-align: top;\n",
       "    }\n",
       "\n",
       "    .dataframe thead th {\n",
       "        text-align: right;\n",
       "    }\n",
       "</style>\n",
       "<table border=\"1\" class=\"dataframe\">\n",
       "  <thead>\n",
       "    <tr style=\"text-align: right;\">\n",
       "      <th></th>\n",
       "      <th>path</th>\n",
       "      <th>audio</th>\n",
       "      <th>transcription</th>\n",
       "      <th>english_transcription</th>\n",
       "      <th>intent_class</th>\n",
       "      <th>lang_id</th>\n",
       "    </tr>\n",
       "  </thead>\n",
       "  <tbody>\n",
       "    <tr>\n",
       "      <th>0</th>\n",
       "      <td>/home/mpp/.cache/huggingface/datasets/download...</td>\n",
       "      <td>{'path': '/home/mpp/.cache/huggingface/dataset...</td>\n",
       "      <td>I would like to pay my electricity bill using ...</td>\n",
       "      <td>I would like to pay my electricity bill using ...</td>\n",
       "      <td>13</td>\n",
       "      <td>2</td>\n",
       "    </tr>\n",
       "    <tr>\n",
       "      <th>1</th>\n",
       "      <td>/home/mpp/.cache/huggingface/datasets/download...</td>\n",
       "      <td>{'path': '/home/mpp/.cache/huggingface/dataset...</td>\n",
       "      <td>hello I like to pay for Bill I would actually ...</td>\n",
       "      <td>hello I like to pay for Bill I would actually ...</td>\n",
       "      <td>13</td>\n",
       "      <td>2</td>\n",
       "    </tr>\n",
       "    <tr>\n",
       "      <th>2</th>\n",
       "      <td>/home/mpp/.cache/huggingface/datasets/download...</td>\n",
       "      <td>{'path': '/home/mpp/.cache/huggingface/dataset...</td>\n",
       "      <td>pay a bill</td>\n",
       "      <td>pay a bill</td>\n",
       "      <td>13</td>\n",
       "      <td>2</td>\n",
       "    </tr>\n",
       "    <tr>\n",
       "      <th>3</th>\n",
       "      <td>/home/mpp/.cache/huggingface/datasets/download...</td>\n",
       "      <td>{'path': '/home/mpp/.cache/huggingface/dataset...</td>\n",
       "      <td>my credit card payment is due</td>\n",
       "      <td>my credit card payment is due</td>\n",
       "      <td>13</td>\n",
       "      <td>2</td>\n",
       "    </tr>\n",
       "    <tr>\n",
       "      <th>4</th>\n",
       "      <td>/home/mpp/.cache/huggingface/datasets/download...</td>\n",
       "      <td>{'path': '/home/mpp/.cache/huggingface/dataset...</td>\n",
       "      <td>hi I would like to make a new payment for a bill</td>\n",
       "      <td>hi I would like to make a new payment for a bill</td>\n",
       "      <td>13</td>\n",
       "      <td>2</td>\n",
       "    </tr>\n",
       "  </tbody>\n",
       "</table>\n",
       "</div>"
      ],
      "text/plain": [
       "                                                path  \\\n",
       "0  /home/mpp/.cache/huggingface/datasets/download...   \n",
       "1  /home/mpp/.cache/huggingface/datasets/download...   \n",
       "2  /home/mpp/.cache/huggingface/datasets/download...   \n",
       "3  /home/mpp/.cache/huggingface/datasets/download...   \n",
       "4  /home/mpp/.cache/huggingface/datasets/download...   \n",
       "\n",
       "                                               audio  \\\n",
       "0  {'path': '/home/mpp/.cache/huggingface/dataset...   \n",
       "1  {'path': '/home/mpp/.cache/huggingface/dataset...   \n",
       "2  {'path': '/home/mpp/.cache/huggingface/dataset...   \n",
       "3  {'path': '/home/mpp/.cache/huggingface/dataset...   \n",
       "4  {'path': '/home/mpp/.cache/huggingface/dataset...   \n",
       "\n",
       "                                       transcription  \\\n",
       "0  I would like to pay my electricity bill using ...   \n",
       "1  hello I like to pay for Bill I would actually ...   \n",
       "2                                         pay a bill   \n",
       "3                      my credit card payment is due   \n",
       "4   hi I would like to make a new payment for a bill   \n",
       "\n",
       "                               english_transcription  intent_class  lang_id  \n",
       "0  I would like to pay my electricity bill using ...            13        2  \n",
       "1  hello I like to pay for Bill I would actually ...            13        2  \n",
       "2                                         pay a bill            13        2  \n",
       "3                      my credit card payment is due            13        2  \n",
       "4   hi I would like to make a new payment for a bill            13        2  "
      ]
     },
     "execution_count": 16,
     "metadata": {},
     "output_type": "execute_result"
    }
   ],
   "source": [
    "# convert to pandas dataframe\n",
    "import pandas as pd\n",
    "\n",
    "df = pd.DataFrame(minds)\n",
    "df.head()"
   ]
  },
  {
   "cell_type": "code",
   "execution_count": 17,
   "metadata": {},
   "outputs": [
    {
     "data": {
      "text/html": [
       "<div>\n",
       "<style scoped>\n",
       "    .dataframe tbody tr th:only-of-type {\n",
       "        vertical-align: middle;\n",
       "    }\n",
       "\n",
       "    .dataframe tbody tr th {\n",
       "        vertical-align: top;\n",
       "    }\n",
       "\n",
       "    .dataframe thead th {\n",
       "        text-align: right;\n",
       "    }\n",
       "</style>\n",
       "<table border=\"1\" class=\"dataframe\">\n",
       "  <thead>\n",
       "    <tr style=\"text-align: right;\">\n",
       "      <th></th>\n",
       "      <th>path</th>\n",
       "      <th>transcription</th>\n",
       "      <th>intent_class</th>\n",
       "    </tr>\n",
       "  </thead>\n",
       "  <tbody>\n",
       "    <tr>\n",
       "      <th>0</th>\n",
       "      <td>/home/mpp/.cache/huggingface/datasets/download...</td>\n",
       "      <td>I would like to pay my electricity bill using ...</td>\n",
       "      <td>13</td>\n",
       "    </tr>\n",
       "    <tr>\n",
       "      <th>1</th>\n",
       "      <td>/home/mpp/.cache/huggingface/datasets/download...</td>\n",
       "      <td>hello I like to pay for Bill I would actually ...</td>\n",
       "      <td>13</td>\n",
       "    </tr>\n",
       "    <tr>\n",
       "      <th>2</th>\n",
       "      <td>/home/mpp/.cache/huggingface/datasets/download...</td>\n",
       "      <td>pay a bill</td>\n",
       "      <td>13</td>\n",
       "    </tr>\n",
       "    <tr>\n",
       "      <th>3</th>\n",
       "      <td>/home/mpp/.cache/huggingface/datasets/download...</td>\n",
       "      <td>my credit card payment is due</td>\n",
       "      <td>13</td>\n",
       "    </tr>\n",
       "    <tr>\n",
       "      <th>4</th>\n",
       "      <td>/home/mpp/.cache/huggingface/datasets/download...</td>\n",
       "      <td>hi I would like to make a new payment for a bill</td>\n",
       "      <td>13</td>\n",
       "    </tr>\n",
       "  </tbody>\n",
       "</table>\n",
       "</div>"
      ],
      "text/plain": [
       "                                                path  \\\n",
       "0  /home/mpp/.cache/huggingface/datasets/download...   \n",
       "1  /home/mpp/.cache/huggingface/datasets/download...   \n",
       "2  /home/mpp/.cache/huggingface/datasets/download...   \n",
       "3  /home/mpp/.cache/huggingface/datasets/download...   \n",
       "4  /home/mpp/.cache/huggingface/datasets/download...   \n",
       "\n",
       "                                       transcription  intent_class  \n",
       "0  I would like to pay my electricity bill using ...            13  \n",
       "1  hello I like to pay for Bill I would actually ...            13  \n",
       "2                                         pay a bill            13  \n",
       "3                      my credit card payment is due            13  \n",
       "4   hi I would like to make a new payment for a bill            13  "
      ]
     },
     "execution_count": 17,
     "metadata": {},
     "output_type": "execute_result"
    }
   ],
   "source": [
    "df = df[[\"path\", \"transcription\", \"intent_class\"]]\n",
    "df.head()"
   ]
  },
  {
   "cell_type": "code",
   "execution_count": 18,
   "metadata": {},
   "outputs": [
    {
     "data": {
      "text/html": [
       "<div>\n",
       "<style scoped>\n",
       "    .dataframe tbody tr th:only-of-type {\n",
       "        vertical-align: middle;\n",
       "    }\n",
       "\n",
       "    .dataframe tbody tr th {\n",
       "        vertical-align: top;\n",
       "    }\n",
       "\n",
       "    .dataframe thead th {\n",
       "        text-align: right;\n",
       "    }\n",
       "</style>\n",
       "<table border=\"1\" class=\"dataframe\">\n",
       "  <thead>\n",
       "    <tr style=\"text-align: right;\">\n",
       "      <th></th>\n",
       "      <th>path</th>\n",
       "      <th>transcription</th>\n",
       "      <th>intent_class</th>\n",
       "      <th>class</th>\n",
       "    </tr>\n",
       "  </thead>\n",
       "  <tbody>\n",
       "    <tr>\n",
       "      <th>0</th>\n",
       "      <td>/home/mpp/.cache/huggingface/datasets/download...</td>\n",
       "      <td>I would like to pay my electricity bill using ...</td>\n",
       "      <td>13</td>\n",
       "      <td>pay_bill</td>\n",
       "    </tr>\n",
       "    <tr>\n",
       "      <th>1</th>\n",
       "      <td>/home/mpp/.cache/huggingface/datasets/download...</td>\n",
       "      <td>hello I like to pay for Bill I would actually ...</td>\n",
       "      <td>13</td>\n",
       "      <td>pay_bill</td>\n",
       "    </tr>\n",
       "    <tr>\n",
       "      <th>2</th>\n",
       "      <td>/home/mpp/.cache/huggingface/datasets/download...</td>\n",
       "      <td>pay a bill</td>\n",
       "      <td>13</td>\n",
       "      <td>pay_bill</td>\n",
       "    </tr>\n",
       "    <tr>\n",
       "      <th>3</th>\n",
       "      <td>/home/mpp/.cache/huggingface/datasets/download...</td>\n",
       "      <td>my credit card payment is due</td>\n",
       "      <td>13</td>\n",
       "      <td>pay_bill</td>\n",
       "    </tr>\n",
       "    <tr>\n",
       "      <th>4</th>\n",
       "      <td>/home/mpp/.cache/huggingface/datasets/download...</td>\n",
       "      <td>hi I would like to make a new payment for a bill</td>\n",
       "      <td>13</td>\n",
       "      <td>pay_bill</td>\n",
       "    </tr>\n",
       "  </tbody>\n",
       "</table>\n",
       "</div>"
      ],
      "text/plain": [
       "                                                path  \\\n",
       "0  /home/mpp/.cache/huggingface/datasets/download...   \n",
       "1  /home/mpp/.cache/huggingface/datasets/download...   \n",
       "2  /home/mpp/.cache/huggingface/datasets/download...   \n",
       "3  /home/mpp/.cache/huggingface/datasets/download...   \n",
       "4  /home/mpp/.cache/huggingface/datasets/download...   \n",
       "\n",
       "                                       transcription  intent_class     class  \n",
       "0  I would like to pay my electricity bill using ...            13  pay_bill  \n",
       "1  hello I like to pay for Bill I would actually ...            13  pay_bill  \n",
       "2                                         pay a bill            13  pay_bill  \n",
       "3                      my credit card payment is due            13  pay_bill  \n",
       "4   hi I would like to make a new payment for a bill            13  pay_bill  "
      ]
     },
     "execution_count": 18,
     "metadata": {},
     "output_type": "execute_result"
    }
   ],
   "source": [
    "id2label = minds.features[\"intent_class\"].int2str\n",
    "df[\"class\"] = df[\"intent_class\"].apply(id2label)\n",
    "df.head()"
   ]
  },
  {
   "cell_type": "markdown",
   "metadata": {},
   "source": [
    "## EDA"
   ]
  },
  {
   "cell_type": "code",
   "execution_count": 19,
   "metadata": {},
   "outputs": [
    {
     "data": {
      "text/html": [
       "<div>\n",
       "<style scoped>\n",
       "    .dataframe tbody tr th:only-of-type {\n",
       "        vertical-align: middle;\n",
       "    }\n",
       "\n",
       "    .dataframe tbody tr th {\n",
       "        vertical-align: top;\n",
       "    }\n",
       "\n",
       "    .dataframe thead th {\n",
       "        text-align: right;\n",
       "    }\n",
       "</style>\n",
       "<table border=\"1\" class=\"dataframe\">\n",
       "  <thead>\n",
       "    <tr style=\"text-align: right;\">\n",
       "      <th></th>\n",
       "      <th>path</th>\n",
       "      <th>transcription</th>\n",
       "      <th>intent_class</th>\n",
       "      <th>class</th>\n",
       "    </tr>\n",
       "  </thead>\n",
       "  <tbody>\n",
       "    <tr>\n",
       "      <th>0</th>\n",
       "      <td>/home/mpp/.cache/huggingface/datasets/download...</td>\n",
       "      <td>I would like to pay my electricity bill using ...</td>\n",
       "      <td>13</td>\n",
       "      <td>pay_bill</td>\n",
       "    </tr>\n",
       "    <tr>\n",
       "      <th>1</th>\n",
       "      <td>/home/mpp/.cache/huggingface/datasets/download...</td>\n",
       "      <td>hello I like to pay for Bill I would actually ...</td>\n",
       "      <td>13</td>\n",
       "      <td>pay_bill</td>\n",
       "    </tr>\n",
       "    <tr>\n",
       "      <th>2</th>\n",
       "      <td>/home/mpp/.cache/huggingface/datasets/download...</td>\n",
       "      <td>pay a bill</td>\n",
       "      <td>13</td>\n",
       "      <td>pay_bill</td>\n",
       "    </tr>\n",
       "    <tr>\n",
       "      <th>3</th>\n",
       "      <td>/home/mpp/.cache/huggingface/datasets/download...</td>\n",
       "      <td>my credit card payment is due</td>\n",
       "      <td>13</td>\n",
       "      <td>pay_bill</td>\n",
       "    </tr>\n",
       "    <tr>\n",
       "      <th>4</th>\n",
       "      <td>/home/mpp/.cache/huggingface/datasets/download...</td>\n",
       "      <td>hi I would like to make a new payment for a bill</td>\n",
       "      <td>13</td>\n",
       "      <td>pay_bill</td>\n",
       "    </tr>\n",
       "  </tbody>\n",
       "</table>\n",
       "</div>"
      ],
      "text/plain": [
       "                                                path  \\\n",
       "0  /home/mpp/.cache/huggingface/datasets/download...   \n",
       "1  /home/mpp/.cache/huggingface/datasets/download...   \n",
       "2  /home/mpp/.cache/huggingface/datasets/download...   \n",
       "3  /home/mpp/.cache/huggingface/datasets/download...   \n",
       "4  /home/mpp/.cache/huggingface/datasets/download...   \n",
       "\n",
       "                                       transcription  intent_class     class  \n",
       "0  I would like to pay my electricity bill using ...            13  pay_bill  \n",
       "1  hello I like to pay for Bill I would actually ...            13  pay_bill  \n",
       "2                                         pay a bill            13  pay_bill  \n",
       "3                      my credit card payment is due            13  pay_bill  \n",
       "4   hi I would like to make a new payment for a bill            13  pay_bill  "
      ]
     },
     "execution_count": 19,
     "metadata": {},
     "output_type": "execute_result"
    }
   ],
   "source": [
    "df.head()"
   ]
  },
  {
   "cell_type": "code",
   "execution_count": 20,
   "metadata": {},
   "outputs": [
    {
     "data": {
      "text/plain": [
       "(654, 4)"
      ]
     },
     "execution_count": 20,
     "metadata": {},
     "output_type": "execute_result"
    }
   ],
   "source": [
    "df.shape"
   ]
  },
  {
   "cell_type": "code",
   "execution_count": 21,
   "metadata": {},
   "outputs": [
    {
     "data": {
      "text/plain": [
       "(array([ 0,  1,  2,  3,  4,  5,  6,  7,  8,  9, 10, 11, 12, 13]),\n",
       " [Text(0, 0, 'latest_transactions'),\n",
       "  Text(1, 0, 'address'),\n",
       "  Text(2, 0, 'atm_limit'),\n",
       "  Text(3, 0, 'pay_bill'),\n",
       "  Text(4, 0, 'joint_account'),\n",
       "  Text(5, 0, 'balance'),\n",
       "  Text(6, 0, 'card_issues'),\n",
       "  Text(7, 0, 'freeze'),\n",
       "  Text(8, 0, 'direct_debit'),\n",
       "  Text(9, 0, 'business_loan'),\n",
       "  Text(10, 0, 'high_value_payment'),\n",
       "  Text(11, 0, 'cash_deposit'),\n",
       "  Text(12, 0, 'app_error'),\n",
       "  Text(13, 0, 'abroad')])"
      ]
     },
     "execution_count": 21,
     "metadata": {},
     "output_type": "execute_result"
    },
    {
     "data": {
      "image/png": "[encoded data removed]",
      "text/plain": [
       "<Figure size 640x480 with 1 Axes>"
      ]
     },
     "metadata": {},
     "output_type": "display_data"
    }
   ],
   "source": [
    "import matplotlib.pyplot as plt\n",
    "\n",
    "df[\"class\"].value_counts().plot(kind=\"bar\")\n",
    "# rotate x-axis labels\n",
    "plt.xticks(rotation=45)"
   ]
  },
  {
   "cell_type": "markdown",
   "metadata": {},
   "source": [
    "## Preprocessing (using pytorch/torchaudio)\n",
    "\n",
    "![](https://tiensu.github.io/images/post/audio_preprocessing_flow.png)"
   ]
  },
  {
   "cell_type": "code",
   "execution_count": 22,
   "metadata": {},
   "outputs": [],
   "source": [
    "import math, random\n",
    "import torch\n",
    "import torchaudio\n",
    "from torchaudio import transforms\n",
    "from IPython.display import Audio\n",
    "\n",
    "class AudioUtil():\n",
    "    \n",
    "    \"\"\" Load audio file into tensor\n",
    "    Returns:\n",
    "        (tensor, sample_rate): Return signal as a tensor and sample rate\n",
    "    \"\"\"\n",
    "    @staticmethod\n",
    "    def open(audio_file):\n",
    "        sig, sr = torchaudio.load(audio_file)\n",
    "        return (sig, sr)\n",
    "    \n",
    "    \"\"\"\n",
    "    Convert the given audio to the desired number of channels\n",
    "    \"\"\"\n",
    "    @staticmethod\n",
    "    def rechannel(audio, new_channel):\n",
    "        sig, sr = audio\n",
    "        \n",
    "        if (sig.shape[0] == new_channel):\n",
    "            # Nothing to do\n",
    "            return audio\n",
    "        \n",
    "        if (new_channel == 1):\n",
    "            # Convert from stereo to mono by selecting only the first channel\n",
    "            resig = sig[:1, :]\n",
    "        else:\n",
    "            # Convert from mono to stereo by duplicating the first channel\n",
    "            resig = torch.cat([sig, sig])\n",
    "        \n",
    "        return ((resig, sr))\n",
    "    \n",
    "    \n",
    "    \"\"\"Since Resample applies to a single channel, we resample one channel at a time\"\"\"\n",
    "    @staticmethod\n",
    "    def resample(audio, newsr):\n",
    "        sig, sr = audio\n",
    "\n",
    "        if (sr == newsr):\n",
    "            # Nothing to do\n",
    "            return audio\n",
    "\n",
    "        num_channels = sig.shape[0]\n",
    "        # Resample first channel\n",
    "        resig = torchaudio.transforms.Resample(sr, newsr)(sig[:1,:])\n",
    "        if (num_channels > 1):\n",
    "            # Resample the second channel and merge both channels\n",
    "            retwo = torchaudio.transforms.Resample(sr, newsr)(sig[1:,:])\n",
    "            resig = torch.cat([resig, retwo])\n",
    "\n",
    "        return ((resig, newsr))\n",
    "        \n",
    "    \"\"\"Pad (or truncate) the signal to a fixed length 'max_ms' in milliseconds\"\"\"\n",
    "    @staticmethod\n",
    "    def pad_trunc(audio, max_ms):\n",
    "        sig, sr = audio\n",
    "        num_rows, sig_len = sig.shape\n",
    "        max_len = sr//1000 * max_ms\n",
    "\n",
    "        if (sig_len > max_len):\n",
    "            # Truncate the signal to the given length\n",
    "            sig = sig[:,:max_len]\n",
    "\n",
    "        elif (sig_len < max_len):\n",
    "            # Length of padding to add at the beginning and end of the signal\n",
    "            pad_begin_len = random.randint(0, max_len - sig_len)\n",
    "            pad_end_len = max_len - sig_len - pad_begin_len\n",
    "\n",
    "            # Pad with 0s\n",
    "            pad_begin = torch.zeros((num_rows, pad_begin_len))\n",
    "            pad_end = torch.zeros((num_rows, pad_end_len))\n",
    "\n",
    "            sig = torch.cat((pad_begin, sig, pad_end), 1)\n",
    "        \n",
    "        return (sig, sr)\n",
    "    \n",
    "    # ----------------------------\n",
    "    # Shifts the signal to the left or right by some percent. Values at the end\n",
    "    # are 'wrapped around' to the start of the transformed signal.\n",
    "    # ----------------------------\n",
    "    @staticmethod\n",
    "    def time_shift(audio, shift_limit):\n",
    "        sig,sr = audio\n",
    "        _, sig_len = sig.shape\n",
    "        shift_amt = int(random.random() * shift_limit * sig_len)\n",
    "        return (sig.roll(shift_amt), sr)\n",
    "    \n",
    "    \n",
    "    # ----------------------------\n",
    "    # Generate a Spectrogram\n",
    "    # ----------------------------\n",
    "    @staticmethod\n",
    "    def spectro_gram(audio, n_mels=64, n_fft=1024, hop_len=None):\n",
    "        sig,sr = audio\n",
    "        top_db = 80\n",
    "\n",
    "        # spec has shape [channel, n_mels, time], where channel is mono, stereo etc\n",
    "        spec = transforms.MelSpectrogram(sr, n_fft=n_fft, hop_length=hop_len, n_mels=n_mels)(sig)\n",
    "\n",
    "        # Convert to decibels\n",
    "        spec = transforms.AmplitudeToDB(top_db=top_db)(spec)\n",
    "        return (spec)\n",
    "    \n",
    "    # ----------------------------\n",
    "    # Augment the Spectrogram by masking out some sections of it in both the frequency\n",
    "    # dimension (ie. horizontal bars) and the time dimension (vertical bars) to prevent\n",
    "    # overfitting and to help the model generalise better. The masked sections are\n",
    "    # replaced with the mean value.\n",
    "    # ----------------------------\n",
    "    @staticmethod\n",
    "    def spectro_augment(spec, max_mask_pct=0.1, n_freq_masks=1, n_time_masks=1):\n",
    "        _, n_mels, n_steps = spec.shape\n",
    "        mask_value = spec.mean()\n",
    "        aug_spec = spec\n",
    "\n",
    "        freq_mask_param = max_mask_pct * n_mels\n",
    "        for _ in range(n_freq_masks):\n",
    "            aug_spec = transforms.FrequencyMasking(freq_mask_param)(aug_spec, mask_value)\n",
    "\n",
    "        time_mask_param = max_mask_pct * n_steps\n",
    "        for _ in range(n_time_masks):\n",
    "            aug_spec = transforms.TimeMasking(time_mask_param)(aug_spec, mask_value)\n",
    "\n",
    "        return aug_spec"
   ]
  },
  {
   "cell_type": "markdown",
   "metadata": {},
   "source": [
    "## Dataset and Dataloader pytorch"
   ]
  },
  {
   "cell_type": "code",
   "execution_count": 25,
   "metadata": {},
   "outputs": [],
   "source": [
    "from torch.utils.data import DataLoader, Dataset, random_split\n",
    "import torchaudio\n",
    "\n",
    "# ----------------------------\n",
    "# Sound Dataset\n",
    "# ----------------------------\n",
    "class SoundDS(Dataset):\n",
    "    def __init__(self, df):\n",
    "        self.df = df\n",
    "        self.duration = 4000 # ms\n",
    "        self.sr = 16_000 # sample rate\n",
    "        self.channel = 2\n",
    "        self.shift_pct = 0.4\n",
    "            \n",
    "    # ----------------------------\n",
    "    # Number of items in dataset\n",
    "    # ----------------------------\n",
    "    def __len__(self):\n",
    "        return len(self.df)    \n",
    "        \n",
    "    # ----------------------------\n",
    "    # Get i'th item in dataset\n",
    "    # ----------------------------\n",
    "    def __getitem__(self, idx):\n",
    "        # Get the Class ID\n",
    "        class_id = self.df.loc[idx, 'intent_class']\n",
    "        audio_path = self.df.loc[idx, 'path']\n",
    "\n",
    "        aud = AudioUtil.open(audio_path)\n",
    "        # Some sounds have a higher sample rate, or fewer channels compared to the\n",
    "        # majority. So make all sounds have the same number of channels and same \n",
    "        # sample rate. Unless the sample rate is the same, the pad_trunc will still\n",
    "        # result in arrays of different lengths, even though the sound duration is\n",
    "        # the same.\n",
    "        reaud = AudioUtil.resample(aud, self.sr)\n",
    "        rechan = AudioUtil.rechannel(reaud, self.channel)\n",
    "\n",
    "        dur_aud = AudioUtil.pad_trunc(rechan, self.duration)\n",
    "        shift_aud = AudioUtil.time_shift(dur_aud, self.shift_pct)\n",
    "        sgram = AudioUtil.spectro_gram(shift_aud, n_mels=64, n_fft=1024, hop_len=None)\n",
    "        aug_sgram = AudioUtil.spectro_augment(sgram, max_mask_pct=0.1, n_freq_masks=2, n_time_masks=2)\n",
    "\n",
    "        return aug_sgram, class_id"
   ]
  },
  {
   "cell_type": "code",
   "execution_count": 26,
   "metadata": {},
   "outputs": [],
   "source": [
    "from torch.utils.data import random_split\n",
    "\n",
    "myds = SoundDS(df)\n",
    "\n",
    "# Random split of 80:20 between training and validation\n",
    "num_items = len(myds)\n",
    "num_train = round(num_items * 0.8)\n",
    "num_val = num_items - num_train\n",
    "train_ds, val_ds = random_split(myds, [num_train, num_val])\n",
    "\n",
    "# Create training and validation data loaders\n",
    "train_dl = torch.utils.data.DataLoader(train_ds, batch_size=16, shuffle=True)\n",
    "val_dl = torch.utils.data.DataLoader(val_ds, batch_size=16, shuffle=False)"
   ]
  },
  {
   "cell_type": "code",
   "execution_count": 34,
   "metadata": {},
   "outputs": [
    {
     "ename": "ValueError",
     "evalue": "For X (3) and Y (17) with flat shading, A should have shape (16, 2, 3) or (16, 2, 4) or (16, 2) or (32,), not (258048,)",
     "output_type": "error",
     "traceback": [
      "\u001b[0;31m---------------------------------------------------------------------------\u001b[0m",
      "\u001b[0;31mValueError\u001b[0m                                Traceback (most recent call last)",
      "\u001b[1;32m/home/mpp/Documents/Machine-Learning-Collection/ML/huggingface/audio/audio-classification-example.ipynb Cell 17\u001b[0m line \u001b[0;36m1\n\u001b[1;32m      <a href='vscode-notebook-cell:/home/mpp/Documents/Machine-Learning-Collection/ML/huggingface/audio/audio-classification-example.ipynb#X30sZmlsZQ%3D%3D?line=8'>9</a>\u001b[0m plt\u001b[39m.\u001b[39mfigure(figsize\u001b[39m=\u001b[39m(\u001b[39m10\u001b[39m, \u001b[39m4\u001b[39m))\n\u001b[1;32m     <a href='vscode-notebook-cell:/home/mpp/Documents/Machine-Learning-Collection/ML/huggingface/audio/audio-classification-example.ipynb#X30sZmlsZQ%3D%3D?line=9'>10</a>\u001b[0m mel_sgram \u001b[39m=\u001b[39m librosa\u001b[39m.\u001b[39mamplitude_to_db(aug_sgram, ref\u001b[39m=\u001b[39mnp\u001b[39m.\u001b[39mmin)\n\u001b[0;32m---> <a href='vscode-notebook-cell:/home/mpp/Documents/Machine-Learning-Collection/ML/huggingface/audio/audio-classification-example.ipynb#X30sZmlsZQ%3D%3D?line=10'>11</a>\u001b[0m librosa\u001b[39m.\u001b[39;49mdisplay\u001b[39m.\u001b[39;49mspecshow(mel_sgram, y_axis\u001b[39m=\u001b[39;49m\u001b[39m'\u001b[39;49m\u001b[39mmel\u001b[39;49m\u001b[39m'\u001b[39;49m, x_axis\u001b[39m=\u001b[39;49m\u001b[39m'\u001b[39;49m\u001b[39mtime\u001b[39;49m\u001b[39m'\u001b[39;49m, sr\u001b[39m=\u001b[39;49m\u001b[39m16000\u001b[39;49m,)\n",
      "File \u001b[0;32m~/miniconda3/envs/audio/lib/python3.10/site-packages/librosa/display.py:1208\u001b[0m, in \u001b[0;36mspecshow\u001b[0;34m(data, x_coords, y_coords, x_axis, y_axis, sr, hop_length, n_fft, win_length, fmin, fmax, tuning, bins_per_octave, key, Sa, mela, thaat, auto_aspect, htk, unicode, intervals, unison, ax, **kwargs)\u001b[0m\n\u001b[1;32m   1204\u001b[0m x_coords \u001b[39m=\u001b[39m __mesh_coords(x_axis, x_coords, data\u001b[39m.\u001b[39mshape[\u001b[39m1\u001b[39m], \u001b[39m*\u001b[39m\u001b[39m*\u001b[39mall_params)\n\u001b[1;32m   1206\u001b[0m axes \u001b[39m=\u001b[39m __check_axes(ax)\n\u001b[0;32m-> 1208\u001b[0m out \u001b[39m=\u001b[39m axes\u001b[39m.\u001b[39;49mpcolormesh(x_coords, y_coords, data, \u001b[39m*\u001b[39;49m\u001b[39m*\u001b[39;49mkwargs)\n\u001b[1;32m   1210\u001b[0m __set_current_image(ax, out)\n\u001b[1;32m   1212\u001b[0m \u001b[39m# Set up axis scaling\u001b[39;00m\n",
      "File \u001b[0;32m~/miniconda3/envs/audio/lib/python3.10/site-packages/matplotlib/__init__.py:1446\u001b[0m, in \u001b[0;36m_preprocess_data.<locals>.inner\u001b[0;34m(ax, data, *args, **kwargs)\u001b[0m\n\u001b[1;32m   1443\u001b[0m \u001b[39m@functools\u001b[39m\u001b[39m.\u001b[39mwraps(func)\n\u001b[1;32m   1444\u001b[0m \u001b[39mdef\u001b[39;00m \u001b[39minner\u001b[39m(ax, \u001b[39m*\u001b[39margs, data\u001b[39m=\u001b[39m\u001b[39mNone\u001b[39;00m, \u001b[39m*\u001b[39m\u001b[39m*\u001b[39mkwargs):\n\u001b[1;32m   1445\u001b[0m     \u001b[39mif\u001b[39;00m data \u001b[39mis\u001b[39;00m \u001b[39mNone\u001b[39;00m:\n\u001b[0;32m-> 1446\u001b[0m         \u001b[39mreturn\u001b[39;00m func(ax, \u001b[39m*\u001b[39;49m\u001b[39mmap\u001b[39;49m(sanitize_sequence, args), \u001b[39m*\u001b[39;49m\u001b[39m*\u001b[39;49mkwargs)\n\u001b[1;32m   1448\u001b[0m     bound \u001b[39m=\u001b[39m new_sig\u001b[39m.\u001b[39mbind(ax, \u001b[39m*\u001b[39margs, \u001b[39m*\u001b[39m\u001b[39m*\u001b[39mkwargs)\n\u001b[1;32m   1449\u001b[0m     auto_label \u001b[39m=\u001b[39m (bound\u001b[39m.\u001b[39marguments\u001b[39m.\u001b[39mget(label_namer)\n\u001b[1;32m   1450\u001b[0m                   \u001b[39mor\u001b[39;00m bound\u001b[39m.\u001b[39mkwargs\u001b[39m.\u001b[39mget(label_namer))\n",
      "File \u001b[0;32m~/miniconda3/envs/audio/lib/python3.10/site-packages/matplotlib/axes/_axes.py:6227\u001b[0m, in \u001b[0;36mAxes.pcolormesh\u001b[0;34m(self, alpha, norm, cmap, vmin, vmax, shading, antialiased, *args, **kwargs)\u001b[0m\n\u001b[1;32m   6223\u001b[0m     C \u001b[39m=\u001b[39m C\u001b[39m.\u001b[39mravel()\n\u001b[1;32m   6225\u001b[0m kwargs\u001b[39m.\u001b[39msetdefault(\u001b[39m'\u001b[39m\u001b[39msnap\u001b[39m\u001b[39m'\u001b[39m, mpl\u001b[39m.\u001b[39mrcParams[\u001b[39m'\u001b[39m\u001b[39mpcolormesh.snap\u001b[39m\u001b[39m'\u001b[39m])\n\u001b[0;32m-> 6227\u001b[0m collection \u001b[39m=\u001b[39m mcoll\u001b[39m.\u001b[39;49mQuadMesh(\n\u001b[1;32m   6228\u001b[0m     coords, antialiased\u001b[39m=\u001b[39;49mantialiased, shading\u001b[39m=\u001b[39;49mshading,\n\u001b[1;32m   6229\u001b[0m     array\u001b[39m=\u001b[39;49mC, cmap\u001b[39m=\u001b[39;49mcmap, norm\u001b[39m=\u001b[39;49mnorm, alpha\u001b[39m=\u001b[39;49malpha, \u001b[39m*\u001b[39;49m\u001b[39m*\u001b[39;49mkwargs)\n\u001b[1;32m   6230\u001b[0m collection\u001b[39m.\u001b[39m_scale_norm(norm, vmin, vmax)\n\u001b[1;32m   6232\u001b[0m coords \u001b[39m=\u001b[39m coords\u001b[39m.\u001b[39mreshape(\u001b[39m-\u001b[39m\u001b[39m1\u001b[39m, \u001b[39m2\u001b[39m)  \u001b[39m# flatten the grid structure; keep x, y\u001b[39;00m\n",
      "File \u001b[0;32m~/miniconda3/envs/audio/lib/python3.10/site-packages/matplotlib/collections.py:1939\u001b[0m, in \u001b[0;36mQuadMesh.__init__\u001b[0;34m(self, coordinates, antialiased, shading, **kwargs)\u001b[0m\n\u001b[1;32m   1936\u001b[0m \u001b[39mself\u001b[39m\u001b[39m.\u001b[39m_bbox\u001b[39m.\u001b[39mupdate_from_data_xy(\u001b[39mself\u001b[39m\u001b[39m.\u001b[39m_coordinates\u001b[39m.\u001b[39mreshape(\u001b[39m-\u001b[39m\u001b[39m1\u001b[39m, \u001b[39m2\u001b[39m))\n\u001b[1;32m   1937\u001b[0m \u001b[39m# super init delayed after own init because array kwarg requires\u001b[39;00m\n\u001b[1;32m   1938\u001b[0m \u001b[39m# self._coordinates and self._shading\u001b[39;00m\n\u001b[0;32m-> 1939\u001b[0m \u001b[39msuper\u001b[39;49m()\u001b[39m.\u001b[39;49m\u001b[39m__init__\u001b[39;49m(\u001b[39m*\u001b[39;49m\u001b[39m*\u001b[39;49mkwargs)\n\u001b[1;32m   1940\u001b[0m \u001b[39mself\u001b[39m\u001b[39m.\u001b[39mset_mouseover(\u001b[39mFalse\u001b[39;00m)\n",
      "File \u001b[0;32m~/miniconda3/envs/audio/lib/python3.10/site-packages/matplotlib/_api/deprecation.py:454\u001b[0m, in \u001b[0;36mmake_keyword_only.<locals>.wrapper\u001b[0;34m(*args, **kwargs)\u001b[0m\n\u001b[1;32m    448\u001b[0m \u001b[39mif\u001b[39;00m \u001b[39mlen\u001b[39m(args) \u001b[39m>\u001b[39m name_idx:\n\u001b[1;32m    449\u001b[0m     warn_deprecated(\n\u001b[1;32m    450\u001b[0m         since, message\u001b[39m=\u001b[39m\u001b[39m\"\u001b[39m\u001b[39mPassing the \u001b[39m\u001b[39m%(name)s\u001b[39;00m\u001b[39m \u001b[39m\u001b[39m%(obj_type)s\u001b[39;00m\u001b[39m \u001b[39m\u001b[39m\"\u001b[39m\n\u001b[1;32m    451\u001b[0m         \u001b[39m\"\u001b[39m\u001b[39mpositionally is deprecated since Matplotlib \u001b[39m\u001b[39m%(since)s\u001b[39;00m\u001b[39m; the \u001b[39m\u001b[39m\"\u001b[39m\n\u001b[1;32m    452\u001b[0m         \u001b[39m\"\u001b[39m\u001b[39mparameter will become keyword-only \u001b[39m\u001b[39m%(removal)s\u001b[39;00m\u001b[39m.\u001b[39m\u001b[39m\"\u001b[39m,\n\u001b[1;32m    453\u001b[0m         name\u001b[39m=\u001b[39mname, obj_type\u001b[39m=\u001b[39m\u001b[39mf\u001b[39m\u001b[39m\"\u001b[39m\u001b[39mparameter of \u001b[39m\u001b[39m{\u001b[39;00mfunc\u001b[39m.\u001b[39m\u001b[39m__name__\u001b[39m\u001b[39m}\u001b[39;00m\u001b[39m()\u001b[39m\u001b[39m\"\u001b[39m)\n\u001b[0;32m--> 454\u001b[0m \u001b[39mreturn\u001b[39;00m func(\u001b[39m*\u001b[39;49margs, \u001b[39m*\u001b[39;49m\u001b[39m*\u001b[39;49mkwargs)\n",
      "File \u001b[0;32m~/miniconda3/envs/audio/lib/python3.10/site-packages/matplotlib/collections.py:201\u001b[0m, in \u001b[0;36mCollection.__init__\u001b[0;34m(self, edgecolors, facecolors, linewidths, linestyles, capstyle, joinstyle, antialiaseds, offsets, offset_transform, norm, cmap, pickradius, hatch, urls, zorder, **kwargs)\u001b[0m\n\u001b[1;32m    198\u001b[0m \u001b[39mself\u001b[39m\u001b[39m.\u001b[39m_offset_transform \u001b[39m=\u001b[39m offset_transform\n\u001b[1;32m    200\u001b[0m \u001b[39mself\u001b[39m\u001b[39m.\u001b[39m_path_effects \u001b[39m=\u001b[39m \u001b[39mNone\u001b[39;00m\n\u001b[0;32m--> 201\u001b[0m \u001b[39mself\u001b[39;49m\u001b[39m.\u001b[39;49m_internal_update(kwargs)\n\u001b[1;32m    202\u001b[0m \u001b[39mself\u001b[39m\u001b[39m.\u001b[39m_paths \u001b[39m=\u001b[39m \u001b[39mNone\u001b[39;00m\n",
      "File \u001b[0;32m~/miniconda3/envs/audio/lib/python3.10/site-packages/matplotlib/artist.py:1223\u001b[0m, in \u001b[0;36mArtist._internal_update\u001b[0;34m(self, kwargs)\u001b[0m\n\u001b[1;32m   1216\u001b[0m \u001b[39mdef\u001b[39;00m \u001b[39m_internal_update\u001b[39m(\u001b[39mself\u001b[39m, kwargs):\n\u001b[1;32m   1217\u001b[0m \u001b[39m    \u001b[39m\u001b[39m\"\"\"\u001b[39;00m\n\u001b[1;32m   1218\u001b[0m \u001b[39m    Update artist properties without prenormalizing them, but generating\u001b[39;00m\n\u001b[1;32m   1219\u001b[0m \u001b[39m    errors as if calling `set`.\u001b[39;00m\n\u001b[1;32m   1220\u001b[0m \n\u001b[1;32m   1221\u001b[0m \u001b[39m    The lack of prenormalization is to maintain backcompatibility.\u001b[39;00m\n\u001b[1;32m   1222\u001b[0m \u001b[39m    \"\"\"\u001b[39;00m\n\u001b[0;32m-> 1223\u001b[0m     \u001b[39mreturn\u001b[39;00m \u001b[39mself\u001b[39;49m\u001b[39m.\u001b[39;49m_update_props(\n\u001b[1;32m   1224\u001b[0m         kwargs, \u001b[39m\"\u001b[39;49m\u001b[39m{cls.__name__}\u001b[39;49;00m\u001b[39m.set() got an unexpected keyword argument \u001b[39;49m\u001b[39m\"\u001b[39;49m\n\u001b[1;32m   1225\u001b[0m         \u001b[39m\"\u001b[39;49m\u001b[39m{prop_name!r}\u001b[39;49;00m\u001b[39m\"\u001b[39;49m)\n",
      "File \u001b[0;32m~/miniconda3/envs/audio/lib/python3.10/site-packages/matplotlib/artist.py:1199\u001b[0m, in \u001b[0;36mArtist._update_props\u001b[0;34m(self, props, errfmt)\u001b[0m\n\u001b[1;32m   1196\u001b[0m             \u001b[39mif\u001b[39;00m \u001b[39mnot\u001b[39;00m \u001b[39mcallable\u001b[39m(func):\n\u001b[1;32m   1197\u001b[0m                 \u001b[39mraise\u001b[39;00m \u001b[39mAttributeError\u001b[39;00m(\n\u001b[1;32m   1198\u001b[0m                     errfmt\u001b[39m.\u001b[39mformat(\u001b[39mcls\u001b[39m\u001b[39m=\u001b[39m\u001b[39mtype\u001b[39m(\u001b[39mself\u001b[39m), prop_name\u001b[39m=\u001b[39mk))\n\u001b[0;32m-> 1199\u001b[0m             ret\u001b[39m.\u001b[39mappend(func(v))\n\u001b[1;32m   1200\u001b[0m \u001b[39mif\u001b[39;00m ret:\n\u001b[1;32m   1201\u001b[0m     \u001b[39mself\u001b[39m\u001b[39m.\u001b[39mpchanged()\n",
      "File \u001b[0;32m~/miniconda3/envs/audio/lib/python3.10/site-packages/matplotlib/collections.py:1982\u001b[0m, in \u001b[0;36mQuadMesh.set_array\u001b[0;34m(self, A)\u001b[0m\n\u001b[1;32m   1980\u001b[0m     shape \u001b[39m=\u001b[39m np\u001b[39m.\u001b[39mshape(A)\n\u001b[1;32m   1981\u001b[0m     \u001b[39mif\u001b[39;00m shape \u001b[39mnot\u001b[39;00m \u001b[39min\u001b[39;00m ok_shapes:\n\u001b[0;32m-> 1982\u001b[0m         \u001b[39mraise\u001b[39;00m \u001b[39mValueError\u001b[39;00m(\n\u001b[1;32m   1983\u001b[0m             \u001b[39mf\u001b[39m\u001b[39m\"\u001b[39m\u001b[39mFor X (\u001b[39m\u001b[39m{\u001b[39;00mwidth\u001b[39m}\u001b[39;00m\u001b[39m) and Y (\u001b[39m\u001b[39m{\u001b[39;00mheight\u001b[39m}\u001b[39;00m\u001b[39m) with \u001b[39m\u001b[39m{\u001b[39;00m\u001b[39mself\u001b[39m\u001b[39m.\u001b[39m_shading\u001b[39m}\u001b[39;00m\u001b[39m \u001b[39m\u001b[39m\"\u001b[39m\n\u001b[1;32m   1984\u001b[0m             \u001b[39mf\u001b[39m\u001b[39m\"\u001b[39m\u001b[39mshading, A should have shape \u001b[39m\u001b[39m\"\u001b[39m\n\u001b[1;32m   1985\u001b[0m             \u001b[39mf\u001b[39m\u001b[39m\"\u001b[39m\u001b[39m{\u001b[39;00m\u001b[39m'\u001b[39m\u001b[39m or \u001b[39m\u001b[39m'\u001b[39m\u001b[39m.\u001b[39mjoin(\u001b[39mmap\u001b[39m(\u001b[39mstr\u001b[39m,\u001b[39m \u001b[39mok_shapes))\u001b[39m}\u001b[39;00m\u001b[39m, not \u001b[39m\u001b[39m{\u001b[39;00mA\u001b[39m.\u001b[39mshape\u001b[39m}\u001b[39;00m\u001b[39m\"\u001b[39m)\n\u001b[1;32m   1986\u001b[0m \u001b[39mreturn\u001b[39;00m \u001b[39msuper\u001b[39m()\u001b[39m.\u001b[39mset_array(A)\n",
      "\u001b[0;31mValueError\u001b[0m: For X (3) and Y (17) with flat shading, A should have shape (16, 2, 3) or (16, 2, 4) or (16, 2) or (32,), not (258048,)"
     ]
    },
    {
     "data": {
      "image/png": "[encoded data removed]",
      "text/plain": [
       "<Figure size 1000x400 with 1 Axes>"
      ]
     },
     "metadata": {},
     "output_type": "display_data"
    }
   ],
   "source": [
    "# get random sample in train_dl and display\n",
    "aug_sgram, class_id = next(iter(train_dl))\n",
    "\n",
    "# visualize spectrogram\n",
    "import numpy as np\n",
    "import librosa.display\n",
    "import matplotlib.pyplot as plt\n",
    "\n",
    "plt.figure(figsize=(10, 4))\n",
    "mel_sgram = librosa.amplitude_to_db(aug_sgram, ref=np.min)\n",
    "librosa.display.specshow(mel_sgram, y_axis='mel', x_axis='time', sr=16000,)"
   ]
  },
  {
   "cell_type": "code",
   "execution_count": null,
   "metadata": {},
   "outputs": [],
   "source": []
  }
 ],
 "metadata": {
  "kernelspec": {
   "display_name": "audio-processing",
   "language": "python",
   "name": "python3"
  },
  "language_info": {
   "codemirror_mode": {
    "name": "ipython",
    "version": 3
   },
   "file_extension": ".py",
   "mimetype": "text/x-python",
   "name": "python",
   "nbconvert_exporter": "python",
   "pygments_lexer": "ipython3",
   "version": "3.10.11"
  }
 },
 "nbformat": 4,
 "nbformat_minor": 2
}
