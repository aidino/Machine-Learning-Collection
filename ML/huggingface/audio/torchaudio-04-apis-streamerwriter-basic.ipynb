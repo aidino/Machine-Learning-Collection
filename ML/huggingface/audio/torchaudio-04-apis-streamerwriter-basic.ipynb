{
 "cells": [
  {
   "cell_type": "markdown",
   "metadata": {},
   "source": [
    "# StreamWriter Basic Usage\n",
    "\n",
    "https://pytorch.org/audio/stable/tutorials/streamwriter_basic_tutorial.html\n",
    "\n",
    "This tutorial shows how to use `torchaudio.io.StreamWriter` to encode and save audio/video data into various formats/destinations."
   ]
  },
  {
   "cell_type": "code",
   "execution_count": 2,
   "metadata": {},
   "outputs": [],
   "source": [
    "# To check the available muxers and encoders, you can use the following command\n",
    "# !ffmpeg -muxers\n",
    "# !ffmpeg -encoders"
   ]
  },
  {
   "cell_type": "code",
   "execution_count": 3,
   "metadata": {},
   "outputs": [
    {
     "name": "stdout",
     "output_type": "stream",
     "text": [
      "2.1.0\n",
      "2.1.0\n",
      "FFmpeg library versions\n",
      "  libavcodec: (58, 91, 100)\n",
      "  libavdevice: (58, 10, 100)\n",
      "  libavfilter: (7, 85, 100)\n",
      "  libavformat: (58, 45, 100)\n",
      "  libavutil: (56, 51, 100)\n"
     ]
    }
   ],
   "source": [
    "import torch\n",
    "import torchaudio\n",
    "\n",
    "print(torch.__version__)\n",
    "print(torchaudio.__version__)\n",
    "\n",
    "from torchaudio.io import StreamWriter\n",
    "\n",
    "print(\"FFmpeg library versions\")\n",
    "for k, v in torchaudio.utils.ffmpeg_utils.get_versions().items():\n",
    "    print(f\"  {k}: {v}\")"
   ]
  },
  {
   "cell_type": "code",
   "execution_count": 4,
   "metadata": {},
   "outputs": [],
   "source": [
    "import io\n",
    "import os\n",
    "import tempfile\n",
    "\n",
    "from IPython.display import Audio, Video\n",
    "\n",
    "from torchaudio.utils import download_asset\n",
    "\n",
    "SAMPLE_PATH = download_asset(\"tutorial-assets/Lab41-SRI-VOiCES-src-sp0307-ch127535-sg0042.wav\")\n",
    "WAVEFORM, SAMPLE_RATE = torchaudio.load(SAMPLE_PATH, channels_first=False)\n",
    "NUM_FRAMES, NUM_CHANNELS = WAVEFORM.shape\n",
    "\n",
    "_BASE_DIR = tempfile.TemporaryDirectory()\n",
    "\n",
    "\n",
    "def get_path(filename):\n",
    "    return os.path.join(_BASE_DIR.name, filename)"
   ]
  },
  {
   "cell_type": "markdown",
   "metadata": {},
   "source": [
    "## The basic usage"
   ]
  },
  {
   "cell_type": "code",
   "execution_count": 6,
   "metadata": {},
   "outputs": [],
   "source": [
    "# 1. Define the destination file\n",
    "path  = get_path(\"test.wav\")\n",
    "s = StreamWriter(path)"
   ]
  },
  {
   "cell_type": "code",
   "execution_count": 7,
   "metadata": {},
   "outputs": [],
   "source": [
    "# 2. Configure the stream\n",
    "s.add_audio_stream(\n",
    "    sample_rate=SAMPLE_RATE,\n",
    "    num_channels=NUM_CHANNELS,\n",
    ")"
   ]
  },
  {
   "cell_type": "code",
   "execution_count": null,
   "metadata": {},
   "outputs": [],
   "source": [
    "# 3. Write the data\n",
    "with s.open():\n",
    "    s.write_audio_chunk(0, WAVEFORM)\n",
    "    \n",
    "Audio(path)"
   ]
  },
  {
   "cell_type": "code",
   "execution_count": null,
   "metadata": {},
   "outputs": [],
   "source": []
  }
 ],
 "metadata": {
  "kernelspec": {
   "display_name": "audio",
   "language": "python",
   "name": "python3"
  },
  "language_info": {
   "codemirror_mode": {
    "name": "ipython",
    "version": 3
   },
   "file_extension": ".py",
   "mimetype": "text/x-python",
   "name": "python",
   "nbconvert_exporter": "python",
   "pygments_lexer": "ipython3",
   "version": "3.10.11"
  }
 },
 "nbformat": 4,
 "nbformat_minor": 2
}
