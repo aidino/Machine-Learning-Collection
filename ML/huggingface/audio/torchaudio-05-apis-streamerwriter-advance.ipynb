{
 "cells": [
  {
   "cell_type": "markdown",
   "metadata": {},
   "source": [
    "# StreamWriter advanced usage\n",
    "\n",
    "https://pytorch.org/audio/stable/tutorials/streamwriter_advanced.html"
   ]
  },
  {
   "cell_type": "code",
   "execution_count": null,
   "metadata": {},
   "outputs": [],
   "source": []
  }
 ],
 "metadata": {
  "language_info": {
   "name": "python"
  }
 },
 "nbformat": 4,
 "nbformat_minor": 2
}
