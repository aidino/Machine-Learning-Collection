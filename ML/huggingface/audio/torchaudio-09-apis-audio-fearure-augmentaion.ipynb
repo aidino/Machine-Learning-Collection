{
 "cells": [
  {
   "cell_type": "markdown",
   "metadata": {},
   "source": [
    "# Audio Feature Augmentation"
   ]
  },
  {
   "cell_type": "code",
   "execution_count": 1,
   "metadata": {},
   "outputs": [
    {
     "name": "stdout",
     "output_type": "stream",
     "text": [
      "2.1.0\n",
      "2.1.0\n"
     ]
    }
   ],
   "source": [
    "import torch\n",
    "import torchaudio\n",
    "import torchaudio.transforms as T\n",
    "\n",
    "print(torch.__version__)\n",
    "print(torchaudio.__version__)"
   ]
  },
  {
   "cell_type": "markdown",
   "metadata": {},
   "source": [
    "## Preparation"
   ]
  },
  {
   "cell_type": "code",
   "execution_count": 2,
   "metadata": {},
   "outputs": [],
   "source": [
    "import librosa\n",
    "import matplotlib.pyplot as plt\n",
    "from torchaudio.utils import download_asset"
   ]
  },
  {
   "cell_type": "code",
   "execution_count": 3,
   "metadata": {},
   "outputs": [],
   "source": [
    "SAMPLE_WAV_SPEECH_PATH = download_asset(\"tutorial-assets/Lab41-SRI-VOiCES-src-sp0307-ch127535-sg0042.wav\")\n",
    "\n",
    "def _get_sample(path, resample=None):\n",
    "    effects = [[\"remix\", \"1\"]]\n",
    "    if resample:\n",
    "        effects.extend(\n",
    "            [\n",
    "                [\"lowpass\", f\"{resample // 2}\"],\n",
    "                [\"rate\", f\"{resample}\"],\n",
    "            ]\n",
    "        )\n",
    "    return torchaudio.sox_effects.apply_effects_file(path, effects=effects)\n",
    "\n",
    "\n",
    "def get_speech_sample(*, resample=None):\n",
    "    return _get_sample(SAMPLE_WAV_SPEECH_PATH, resample=resample)\n",
    "\n",
    "\n",
    "def get_spectrogram(\n",
    "    n_fft=400,\n",
    "    win_len=None,\n",
    "    hop_len=None,\n",
    "    power=2.0,\n",
    "):\n",
    "    waveform, _ = get_speech_sample()\n",
    "    spectrogram = T.Spectrogram(\n",
    "        n_fft=n_fft,\n",
    "        win_length=win_len,\n",
    "        hop_length=hop_len,\n",
    "        center=True,\n",
    "        pad_mode=\"reflect\",\n",
    "        power=power,\n",
    "    )\n",
    "    return spectrogram(waveform)\n",
    "\n",
    "\n",
    "def plot_spec(ax, spec, title, ylabel=\"freq_bin\"):\n",
    "    ax.set_title(title)\n",
    "    ax.imshow(librosa.power_to_db(spec), origin=\"lower\", aspect=\"auto\")"
   ]
  },
  {
   "cell_type": "markdown",
   "metadata": {},
   "source": [
    "## SpecAugment\n",
    "\n",
    "`SpecAugment` is a popular spectrogram augmentation technique.\n",
    "\n",
    "`torchaudio` implements `torchaudio.transforms.TimeStretch()`, `torchaudio.transforms.TimeMasking()` and `torchaudio.transforms.FrequencyMasking()`."
   ]
  },
  {
   "cell_type": "markdown",
   "metadata": {},
   "source": [
    "### TimeStretch"
   ]
  },
  {
   "cell_type": "code",
   "execution_count": null,
   "metadata": {},
   "outputs": [],
   "source": [
    "spec = get_spectrogram(power=None)\n",
    "stretch = T.TimeStretch()\n",
    "\n",
    "spec_12 = stretch(spec, overriding_rate=1.2)\n",
    "spec_09 = stretch(spec, overriding_rate=0.9)"
   ]
  },
  {
   "cell_type": "code",
   "execution_count": null,
   "metadata": {},
   "outputs": [],
   "source": [
    "def plot():\n",
    "    fig, axes = plt.subplots(3, 1, sharex=True, sharey=True)\n",
    "    plot_spec(axes[0], torch.abs(spec_12[0]), title=\"Stretched x1.2\")\n",
    "    plot_spec(axes[1], torch.abs(spec[0]), title=\"Original\")\n",
    "    plot_spec(axes[2], torch.abs(spec_09[0]), title=\"Stretched x0.9\")\n",
    "    fig.tight_layout()\n",
    "\n",
    "\n",
    "plot()"
   ]
  },
  {
   "cell_type": "markdown",
   "metadata": {},
   "source": [
    "### Time and Frequency Masking"
   ]
  },
  {
   "cell_type": "code",
   "execution_count": 5,
   "metadata": {},
   "outputs": [
    {
     "ename": "RuntimeError",
     "evalue": "apply_effects_file requires sox extension which is not available. Please refer to the stacktrace above for how to resolve this.",
     "output_type": "error",
     "traceback": [
      "\u001b[0;31m---------------------------------------------------------------------------\u001b[0m",
      "\u001b[0;31mOSError\u001b[0m                                   Traceback (most recent call last)",
      "File \u001b[0;32m~/miniconda3/envs/audio/lib/python3.10/site-packages/torchaudio/_extension/utils.py:207\u001b[0m, in \u001b[0;36m_fail_since_no_sox.<locals>.wrapped\u001b[0;34m(*_args, **_kwargs)\u001b[0m\n\u001b[1;32m    203\u001b[0m \u001b[39mtry\u001b[39;00m:\n\u001b[1;32m    204\u001b[0m     \u001b[39m# Note:\u001b[39;00m\n\u001b[1;32m    205\u001b[0m     \u001b[39m# We run _init_sox again just to show users the stacktrace.\u001b[39;00m\n\u001b[1;32m    206\u001b[0m     \u001b[39m# _init_sox would not succeed here.\u001b[39;00m\n\u001b[0;32m--> 207\u001b[0m     _init_sox()\n\u001b[1;32m    208\u001b[0m \u001b[39mexcept\u001b[39;00m \u001b[39mException\u001b[39;00m \u001b[39mas\u001b[39;00m err:\n",
      "File \u001b[0;32m~/miniconda3/envs/audio/lib/python3.10/site-packages/torchaudio/_extension/utils.py:70\u001b[0m, in \u001b[0;36m_init_sox\u001b[0;34m()\u001b[0m\n\u001b[1;32m     69\u001b[0m \u001b[39mdef\u001b[39;00m \u001b[39m_init_sox\u001b[39m():\n\u001b[0;32m---> 70\u001b[0m     _load_lib(\u001b[39m\"\u001b[39;49m\u001b[39mlibtorchaudio_sox\u001b[39;49m\u001b[39m\"\u001b[39;49m)\n\u001b[1;32m     71\u001b[0m     \u001b[39mimport\u001b[39;00m \u001b[39mtorchaudio\u001b[39;00m\u001b[39m.\u001b[39;00m\u001b[39mlib\u001b[39;00m\u001b[39m.\u001b[39;00m\u001b[39m_torchaudio_sox\u001b[39;00m  \u001b[39m# noqa\u001b[39;00m\n",
      "File \u001b[0;32m~/miniconda3/envs/audio/lib/python3.10/site-packages/torchaudio/_extension/utils.py:64\u001b[0m, in \u001b[0;36m_load_lib\u001b[0;34m(lib)\u001b[0m\n\u001b[1;32m     63\u001b[0m     \u001b[39mreturn\u001b[39;00m \u001b[39mFalse\u001b[39;00m\n\u001b[0;32m---> 64\u001b[0m torch\u001b[39m.\u001b[39;49mops\u001b[39m.\u001b[39;49mload_library(path)\n\u001b[1;32m     65\u001b[0m torch\u001b[39m.\u001b[39mclasses\u001b[39m.\u001b[39mload_library(path)\n",
      "File \u001b[0;32m~/miniconda3/envs/audio/lib/python3.10/site-packages/torch/_ops.py:852\u001b[0m, in \u001b[0;36m_Ops.load_library\u001b[0;34m(self, path)\u001b[0m\n\u001b[1;32m    848\u001b[0m \u001b[39mwith\u001b[39;00m dl_open_guard():\n\u001b[1;32m    849\u001b[0m     \u001b[39m# Import the shared library into the process, thus running its\u001b[39;00m\n\u001b[1;32m    850\u001b[0m     \u001b[39m# static (global) initialization code in order to register custom\u001b[39;00m\n\u001b[1;32m    851\u001b[0m     \u001b[39m# operators with the JIT.\u001b[39;00m\n\u001b[0;32m--> 852\u001b[0m     ctypes\u001b[39m.\u001b[39;49mCDLL(path)\n\u001b[1;32m    853\u001b[0m \u001b[39mself\u001b[39m\u001b[39m.\u001b[39mloaded_libraries\u001b[39m.\u001b[39madd(path)\n",
      "File \u001b[0;32m~/miniconda3/envs/audio/lib/python3.10/ctypes/__init__.py:374\u001b[0m, in \u001b[0;36mCDLL.__init__\u001b[0;34m(self, name, mode, handle, use_errno, use_last_error, winmode)\u001b[0m\n\u001b[1;32m    373\u001b[0m \u001b[39mif\u001b[39;00m handle \u001b[39mis\u001b[39;00m \u001b[39mNone\u001b[39;00m:\n\u001b[0;32m--> 374\u001b[0m     \u001b[39mself\u001b[39m\u001b[39m.\u001b[39m_handle \u001b[39m=\u001b[39m _dlopen(\u001b[39mself\u001b[39;49m\u001b[39m.\u001b[39;49m_name, mode)\n\u001b[1;32m    375\u001b[0m \u001b[39melse\u001b[39;00m:\n",
      "\u001b[0;31mOSError\u001b[0m: libsox.so: cannot open shared object file: No such file or directory",
      "\nThe above exception was the direct cause of the following exception:\n",
      "\u001b[0;31mRuntimeError\u001b[0m                              Traceback (most recent call last)",
      "\u001b[1;32m/home/mpp/Documents/Machine-Learning-Collection/ML/huggingface/audio/torchaudio-09-apis-audio-fearure-augmentaion.ipynb Cell 11\u001b[0m line \u001b[0;36m6\n\u001b[1;32m      <a href='vscode-notebook-cell:/home/mpp/Documents/Machine-Learning-Collection/ML/huggingface/audio/torchaudio-09-apis-audio-fearure-augmentaion.ipynb#X14sZmlsZQ%3D%3D?line=2'>3</a>\u001b[0m time_masking \u001b[39m=\u001b[39m T\u001b[39m.\u001b[39mTimeMasking(time_mask_param\u001b[39m=\u001b[39m\u001b[39m80\u001b[39m)\n\u001b[1;32m      <a href='vscode-notebook-cell:/home/mpp/Documents/Machine-Learning-Collection/ML/huggingface/audio/torchaudio-09-apis-audio-fearure-augmentaion.ipynb#X14sZmlsZQ%3D%3D?line=3'>4</a>\u001b[0m freq_masking \u001b[39m=\u001b[39m T\u001b[39m.\u001b[39mFrequencyMasking(freq_mask_param\u001b[39m=\u001b[39m\u001b[39m80\u001b[39m)\n\u001b[0;32m----> <a href='vscode-notebook-cell:/home/mpp/Documents/Machine-Learning-Collection/ML/huggingface/audio/torchaudio-09-apis-audio-fearure-augmentaion.ipynb#X14sZmlsZQ%3D%3D?line=5'>6</a>\u001b[0m spec \u001b[39m=\u001b[39m get_spectrogram()\n\u001b[1;32m      <a href='vscode-notebook-cell:/home/mpp/Documents/Machine-Learning-Collection/ML/huggingface/audio/torchaudio-09-apis-audio-fearure-augmentaion.ipynb#X14sZmlsZQ%3D%3D?line=6'>7</a>\u001b[0m time_masked \u001b[39m=\u001b[39m time_masking(spec)\n\u001b[1;32m      <a href='vscode-notebook-cell:/home/mpp/Documents/Machine-Learning-Collection/ML/huggingface/audio/torchaudio-09-apis-audio-fearure-augmentaion.ipynb#X14sZmlsZQ%3D%3D?line=7'>8</a>\u001b[0m freq_masked \u001b[39m=\u001b[39m freq_masking(spec)\n",
      "\u001b[1;32m/home/mpp/Documents/Machine-Learning-Collection/ML/huggingface/audio/torchaudio-09-apis-audio-fearure-augmentaion.ipynb Cell 11\u001b[0m line \u001b[0;36m2\n\u001b[1;32m     <a href='vscode-notebook-cell:/home/mpp/Documents/Machine-Learning-Collection/ML/huggingface/audio/torchaudio-09-apis-audio-fearure-augmentaion.ipynb#X14sZmlsZQ%3D%3D?line=18'>19</a>\u001b[0m \u001b[39mdef\u001b[39;00m \u001b[39mget_spectrogram\u001b[39m(\n\u001b[1;32m     <a href='vscode-notebook-cell:/home/mpp/Documents/Machine-Learning-Collection/ML/huggingface/audio/torchaudio-09-apis-audio-fearure-augmentaion.ipynb#X14sZmlsZQ%3D%3D?line=19'>20</a>\u001b[0m     n_fft\u001b[39m=\u001b[39m\u001b[39m400\u001b[39m,\n\u001b[1;32m     <a href='vscode-notebook-cell:/home/mpp/Documents/Machine-Learning-Collection/ML/huggingface/audio/torchaudio-09-apis-audio-fearure-augmentaion.ipynb#X14sZmlsZQ%3D%3D?line=20'>21</a>\u001b[0m     win_len\u001b[39m=\u001b[39m\u001b[39mNone\u001b[39;00m,\n\u001b[1;32m     <a href='vscode-notebook-cell:/home/mpp/Documents/Machine-Learning-Collection/ML/huggingface/audio/torchaudio-09-apis-audio-fearure-augmentaion.ipynb#X14sZmlsZQ%3D%3D?line=21'>22</a>\u001b[0m     hop_len\u001b[39m=\u001b[39m\u001b[39mNone\u001b[39;00m,\n\u001b[1;32m     <a href='vscode-notebook-cell:/home/mpp/Documents/Machine-Learning-Collection/ML/huggingface/audio/torchaudio-09-apis-audio-fearure-augmentaion.ipynb#X14sZmlsZQ%3D%3D?line=22'>23</a>\u001b[0m     power\u001b[39m=\u001b[39m\u001b[39m2.0\u001b[39m,\n\u001b[1;32m     <a href='vscode-notebook-cell:/home/mpp/Documents/Machine-Learning-Collection/ML/huggingface/audio/torchaudio-09-apis-audio-fearure-augmentaion.ipynb#X14sZmlsZQ%3D%3D?line=23'>24</a>\u001b[0m ):\n\u001b[0;32m---> <a href='vscode-notebook-cell:/home/mpp/Documents/Machine-Learning-Collection/ML/huggingface/audio/torchaudio-09-apis-audio-fearure-augmentaion.ipynb#X14sZmlsZQ%3D%3D?line=24'>25</a>\u001b[0m     waveform, _ \u001b[39m=\u001b[39m get_speech_sample()\n\u001b[1;32m     <a href='vscode-notebook-cell:/home/mpp/Documents/Machine-Learning-Collection/ML/huggingface/audio/torchaudio-09-apis-audio-fearure-augmentaion.ipynb#X14sZmlsZQ%3D%3D?line=25'>26</a>\u001b[0m     spectrogram \u001b[39m=\u001b[39m T\u001b[39m.\u001b[39mSpectrogram(\n\u001b[1;32m     <a href='vscode-notebook-cell:/home/mpp/Documents/Machine-Learning-Collection/ML/huggingface/audio/torchaudio-09-apis-audio-fearure-augmentaion.ipynb#X14sZmlsZQ%3D%3D?line=26'>27</a>\u001b[0m         n_fft\u001b[39m=\u001b[39mn_fft,\n\u001b[1;32m     <a href='vscode-notebook-cell:/home/mpp/Documents/Machine-Learning-Collection/ML/huggingface/audio/torchaudio-09-apis-audio-fearure-augmentaion.ipynb#X14sZmlsZQ%3D%3D?line=27'>28</a>\u001b[0m         win_length\u001b[39m=\u001b[39mwin_len,\n\u001b[0;32m   (...)\u001b[0m\n\u001b[1;32m     <a href='vscode-notebook-cell:/home/mpp/Documents/Machine-Learning-Collection/ML/huggingface/audio/torchaudio-09-apis-audio-fearure-augmentaion.ipynb#X14sZmlsZQ%3D%3D?line=31'>32</a>\u001b[0m         power\u001b[39m=\u001b[39mpower,\n\u001b[1;32m     <a href='vscode-notebook-cell:/home/mpp/Documents/Machine-Learning-Collection/ML/huggingface/audio/torchaudio-09-apis-audio-fearure-augmentaion.ipynb#X14sZmlsZQ%3D%3D?line=32'>33</a>\u001b[0m     )\n\u001b[1;32m     <a href='vscode-notebook-cell:/home/mpp/Documents/Machine-Learning-Collection/ML/huggingface/audio/torchaudio-09-apis-audio-fearure-augmentaion.ipynb#X14sZmlsZQ%3D%3D?line=33'>34</a>\u001b[0m     \u001b[39mreturn\u001b[39;00m spectrogram(waveform)\n",
      "\u001b[1;32m/home/mpp/Documents/Machine-Learning-Collection/ML/huggingface/audio/torchaudio-09-apis-audio-fearure-augmentaion.ipynb Cell 11\u001b[0m line \u001b[0;36m1\n\u001b[1;32m     <a href='vscode-notebook-cell:/home/mpp/Documents/Machine-Learning-Collection/ML/huggingface/audio/torchaudio-09-apis-audio-fearure-augmentaion.ipynb#X14sZmlsZQ%3D%3D?line=14'>15</a>\u001b[0m \u001b[39mdef\u001b[39;00m \u001b[39mget_speech_sample\u001b[39m(\u001b[39m*\u001b[39m, resample\u001b[39m=\u001b[39m\u001b[39mNone\u001b[39;00m):\n\u001b[0;32m---> <a href='vscode-notebook-cell:/home/mpp/Documents/Machine-Learning-Collection/ML/huggingface/audio/torchaudio-09-apis-audio-fearure-augmentaion.ipynb#X14sZmlsZQ%3D%3D?line=15'>16</a>\u001b[0m     \u001b[39mreturn\u001b[39;00m _get_sample(SAMPLE_WAV_SPEECH_PATH, resample\u001b[39m=\u001b[39;49mresample)\n",
      "\u001b[1;32m/home/mpp/Documents/Machine-Learning-Collection/ML/huggingface/audio/torchaudio-09-apis-audio-fearure-augmentaion.ipynb Cell 11\u001b[0m line \u001b[0;36m1\n\u001b[1;32m      <a href='vscode-notebook-cell:/home/mpp/Documents/Machine-Learning-Collection/ML/huggingface/audio/torchaudio-09-apis-audio-fearure-augmentaion.ipynb#X14sZmlsZQ%3D%3D?line=4'>5</a>\u001b[0m \u001b[39mif\u001b[39;00m resample:\n\u001b[1;32m      <a href='vscode-notebook-cell:/home/mpp/Documents/Machine-Learning-Collection/ML/huggingface/audio/torchaudio-09-apis-audio-fearure-augmentaion.ipynb#X14sZmlsZQ%3D%3D?line=5'>6</a>\u001b[0m     effects\u001b[39m.\u001b[39mextend(\n\u001b[1;32m      <a href='vscode-notebook-cell:/home/mpp/Documents/Machine-Learning-Collection/ML/huggingface/audio/torchaudio-09-apis-audio-fearure-augmentaion.ipynb#X14sZmlsZQ%3D%3D?line=6'>7</a>\u001b[0m         [\n\u001b[1;32m      <a href='vscode-notebook-cell:/home/mpp/Documents/Machine-Learning-Collection/ML/huggingface/audio/torchaudio-09-apis-audio-fearure-augmentaion.ipynb#X14sZmlsZQ%3D%3D?line=7'>8</a>\u001b[0m             [\u001b[39m\"\u001b[39m\u001b[39mlowpass\u001b[39m\u001b[39m\"\u001b[39m, \u001b[39mf\u001b[39m\u001b[39m\"\u001b[39m\u001b[39m{\u001b[39;00mresample\u001b[39m \u001b[39m\u001b[39m/\u001b[39m\u001b[39m/\u001b[39m\u001b[39m \u001b[39m\u001b[39m2\u001b[39m\u001b[39m}\u001b[39;00m\u001b[39m\"\u001b[39m],\n\u001b[1;32m      <a href='vscode-notebook-cell:/home/mpp/Documents/Machine-Learning-Collection/ML/huggingface/audio/torchaudio-09-apis-audio-fearure-augmentaion.ipynb#X14sZmlsZQ%3D%3D?line=8'>9</a>\u001b[0m             [\u001b[39m\"\u001b[39m\u001b[39mrate\u001b[39m\u001b[39m\"\u001b[39m, \u001b[39mf\u001b[39m\u001b[39m\"\u001b[39m\u001b[39m{\u001b[39;00mresample\u001b[39m}\u001b[39;00m\u001b[39m\"\u001b[39m],\n\u001b[1;32m     <a href='vscode-notebook-cell:/home/mpp/Documents/Machine-Learning-Collection/ML/huggingface/audio/torchaudio-09-apis-audio-fearure-augmentaion.ipynb#X14sZmlsZQ%3D%3D?line=9'>10</a>\u001b[0m         ]\n\u001b[1;32m     <a href='vscode-notebook-cell:/home/mpp/Documents/Machine-Learning-Collection/ML/huggingface/audio/torchaudio-09-apis-audio-fearure-augmentaion.ipynb#X14sZmlsZQ%3D%3D?line=10'>11</a>\u001b[0m     )\n\u001b[0;32m---> <a href='vscode-notebook-cell:/home/mpp/Documents/Machine-Learning-Collection/ML/huggingface/audio/torchaudio-09-apis-audio-fearure-augmentaion.ipynb#X14sZmlsZQ%3D%3D?line=11'>12</a>\u001b[0m \u001b[39mreturn\u001b[39;00m torchaudio\u001b[39m.\u001b[39;49msox_effects\u001b[39m.\u001b[39;49mapply_effects_file(path, effects\u001b[39m=\u001b[39;49meffects)\n",
      "File \u001b[0;32m~/miniconda3/envs/audio/lib/python3.10/site-packages/torchaudio/_extension/utils.py:209\u001b[0m, in \u001b[0;36m_fail_since_no_sox.<locals>.wrapped\u001b[0;34m(*_args, **_kwargs)\u001b[0m\n\u001b[1;32m    207\u001b[0m     _init_sox()\n\u001b[1;32m    208\u001b[0m \u001b[39mexcept\u001b[39;00m \u001b[39mException\u001b[39;00m \u001b[39mas\u001b[39;00m err:\n\u001b[0;32m--> 209\u001b[0m     \u001b[39mraise\u001b[39;00m \u001b[39mRuntimeError\u001b[39;00m(\n\u001b[1;32m    210\u001b[0m         \u001b[39mf\u001b[39m\u001b[39m\"\u001b[39m\u001b[39m{\u001b[39;00mfunc\u001b[39m.\u001b[39m\u001b[39m__name__\u001b[39m\u001b[39m}\u001b[39;00m\u001b[39m requires sox extension which is not available. \u001b[39m\u001b[39m\"\u001b[39m\n\u001b[1;32m    211\u001b[0m         \u001b[39m\"\u001b[39m\u001b[39mPlease refer to the stacktrace above for how to resolve this.\u001b[39m\u001b[39m\"\u001b[39m\n\u001b[1;32m    212\u001b[0m     ) \u001b[39mfrom\u001b[39;00m \u001b[39merr\u001b[39;00m\n\u001b[1;32m    213\u001b[0m \u001b[39m# This should not happen in normal execution, but just in case.\u001b[39;00m\n\u001b[1;32m    214\u001b[0m \u001b[39mreturn\u001b[39;00m func(\u001b[39m*\u001b[39m_args, \u001b[39m*\u001b[39m\u001b[39m*\u001b[39m_kwargs)\n",
      "\u001b[0;31mRuntimeError\u001b[0m: apply_effects_file requires sox extension which is not available. Please refer to the stacktrace above for how to resolve this."
     ]
    }
   ],
   "source": [
    "torch.random.manual_seed(4)\n",
    "\n",
    "time_masking = T.TimeMasking(time_mask_param=80)\n",
    "freq_masking = T.FrequencyMasking(freq_mask_param=80)\n",
    "\n",
    "spec = get_spectrogram()\n",
    "time_masked = time_masking(spec)\n",
    "freq_masked = freq_masking(spec)\n",
    "def plot():\n",
    "    fig, axes = plt.subplots(3, 1, sharex=True, sharey=True)\n",
    "    plot_spec(axes[0], spec[0], title=\"Original\")\n",
    "    plot_spec(axes[1], time_masked[0], title=\"Masked along time axis\")\n",
    "    plot_spec(axes[2], freq_masked[0], title=\"Masked along frequency axis\")\n",
    "    fig.tight_layout()\n",
    "\n",
    "plot()"
   ]
  },
  {
   "cell_type": "code",
   "execution_count": null,
   "metadata": {},
   "outputs": [],
   "source": []
  }
 ],
 "metadata": {
  "kernelspec": {
   "display_name": "audio",
   "language": "python",
   "name": "python3"
  },
  "language_info": {
   "codemirror_mode": {
    "name": "ipython",
    "version": 3
   },
   "file_extension": ".py",
   "mimetype": "text/x-python",
   "name": "python",
   "nbconvert_exporter": "python",
   "pygments_lexer": "ipython3",
   "version": "3.10.11"
  }
 },
 "nbformat": 4,
 "nbformat_minor": 2
}
