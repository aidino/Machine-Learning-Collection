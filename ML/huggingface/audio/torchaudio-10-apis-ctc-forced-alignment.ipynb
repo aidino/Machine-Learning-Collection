{
 "cells": [
  {
   "cell_type": "markdown",
   "metadata": {},
   "source": [
    "# CTC Forced alignment api tutorial\n",
    "\n",
    "https://pytorch.org/audio/2.1.0/tutorials/ctc_forced_alignment_api_tutorial.html"
   ]
  },
  {
   "cell_type": "code",
   "execution_count": null,
   "metadata": {},
   "outputs": [],
   "source": []
  }
 ],
 "metadata": {
  "language_info": {
   "name": "python"
  }
 },
 "nbformat": 4,
 "nbformat_minor": 2
}
