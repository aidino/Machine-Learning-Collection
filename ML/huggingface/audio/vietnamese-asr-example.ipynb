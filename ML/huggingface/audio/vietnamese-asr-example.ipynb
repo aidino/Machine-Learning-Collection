{
 "cells": [
  {
   "cell_type": "markdown",
   "metadata": {},
   "source": [
    "# Fine-turn ASR - Vietnamese\n",
    "\n",
    "- Dataset: VIVOS: Vietnamese Speech Corpus for ASR\n",
    "- Link: https://www.kaggle.com/datasets/kynthesis/vivos-vietnamese-speech-corpus-for-asr"
   ]
  },
  {
   "cell_type": "markdown",
   "metadata": {},
   "source": [
    "## Import datasets"
   ]
  },
  {
   "cell_type": "code",
   "execution_count": 1,
   "metadata": {},
   "outputs": [],
   "source": [
    "import os \n",
    "import pandas as pd\n",
    "import pathlib"
   ]
  },
  {
   "cell_type": "code",
   "execution_count": 2,
   "metadata": {},
   "outputs": [],
   "source": [
    "train_dir = \"datasets/vivos/train\"\n",
    "test_dir = \"datasets/vivos/test\""
   ]
  },
  {
   "cell_type": "code",
   "execution_count": 3,
   "metadata": {},
   "outputs": [],
   "source": [
    "def load_audio_df(dir):\n",
    "    gender_df = pd.read_csv(os.path.join(dir, \"genders.txt\"), \n",
    "                            sep=\" \", \n",
    "                            header=None, \n",
    "                            names=[\"folder_name\", \"gender\"])\n",
    "    prompts_df = pd.read_csv(os.path.join(dir, \"prompts.txt\"), \n",
    "                            header=None, \n",
    "                            names=[\"prompts\"])\n",
    "    prompts_df[\"file_name\"] = prompts_df[\"prompts\"].apply(lambda x: x.split(\" \")[0])\n",
    "    prompts_df[\"text\"] = prompts_df[\"prompts\"].apply(lambda x: \" \".join(x.split(\" \")[1:]))\n",
    "    prompts_df = prompts_df.drop(columns=[\"prompts\"])\n",
    "    \n",
    "    file_data = []\n",
    "    for root, directories, files in os.walk(dir):\n",
    "        for file in files:\n",
    "            if pathlib.Path(file).suffix == '.wav':\n",
    "                file_path = os.path.join(root, file)\n",
    "                file_name = file.split(\".\")[0]\n",
    "                folder_name = file_name.split(\"_\")[0]\n",
    "                file_data.append({\n",
    "                    \"path\": file_path,\n",
    "                    \"file_name\": file_name,\n",
    "                    \"folder_name\": folder_name,\n",
    "                })\n",
    "                \n",
    "    file_df = pd.DataFrame(file_data)\n",
    "    # join file_df and gender_df based on folder_name\n",
    "    full_ds = pd.merge(file_df, gender_df, on=\"folder_name\")\n",
    "    full_ds = pd.merge(full_ds, prompts_df, on=\"file_name\")\n",
    "    return full_ds\n",
    "    "
   ]
  },
  {
   "cell_type": "code",
   "execution_count": 4,
   "metadata": {},
   "outputs": [
    {
     "data": {
      "text/html": [
       "<div>\n",
       "<style scoped>\n",
       "    .dataframe tbody tr th:only-of-type {\n",
       "        vertical-align: middle;\n",
       "    }\n",
       "\n",
       "    .dataframe tbody tr th {\n",
       "        vertical-align: top;\n",
       "    }\n",
       "\n",
       "    .dataframe thead th {\n",
       "        text-align: right;\n",
       "    }\n",
       "</style>\n",
       "<table border=\"1\" class=\"dataframe\">\n",
       "  <thead>\n",
       "    <tr style=\"text-align: right;\">\n",
       "      <th></th>\n",
       "      <th>path</th>\n",
       "      <th>file_name</th>\n",
       "      <th>folder_name</th>\n",
       "      <th>gender</th>\n",
       "      <th>text</th>\n",
       "    </tr>\n",
       "  </thead>\n",
       "  <tbody>\n",
       "    <tr>\n",
       "      <th>0</th>\n",
       "      <td>datasets/vivos/train/waves/VIVOSSPK17/VIVOSSPK...</td>\n",
       "      <td>VIVOSSPK17_094</td>\n",
       "      <td>VIVOSSPK17</td>\n",
       "      <td>f</td>\n",
       "      <td>VÌ CÁI VÒNG SỐ BA QUÁ HẤP DẪN</td>\n",
       "    </tr>\n",
       "    <tr>\n",
       "      <th>1</th>\n",
       "      <td>datasets/vivos/train/waves/VIVOSSPK17/VIVOSSPK...</td>\n",
       "      <td>VIVOSSPK17_039</td>\n",
       "      <td>VIVOSSPK17</td>\n",
       "      <td>f</td>\n",
       "      <td>THÀNH TÍCH VÀ QUY GÁN</td>\n",
       "    </tr>\n",
       "    <tr>\n",
       "      <th>2</th>\n",
       "      <td>datasets/vivos/train/waves/VIVOSSPK17/VIVOSSPK...</td>\n",
       "      <td>VIVOSSPK17_178</td>\n",
       "      <td>VIVOSSPK17</td>\n",
       "      <td>f</td>\n",
       "      <td>TẤT CẢ NHỮNG THỨ XUNG QUANH BẠN</td>\n",
       "    </tr>\n",
       "    <tr>\n",
       "      <th>3</th>\n",
       "      <td>datasets/vivos/train/waves/VIVOSSPK17/VIVOSSPK...</td>\n",
       "      <td>VIVOSSPK17_022</td>\n",
       "      <td>VIVOSSPK17</td>\n",
       "      <td>f</td>\n",
       "      <td>LÀ SẼ XỬ LÝ CƯƠNG QUYẾT NHỮNG SAI PHẠM</td>\n",
       "    </tr>\n",
       "    <tr>\n",
       "      <th>4</th>\n",
       "      <td>datasets/vivos/train/waves/VIVOSSPK17/VIVOSSPK...</td>\n",
       "      <td>VIVOSSPK17_052</td>\n",
       "      <td>VIVOSSPK17</td>\n",
       "      <td>f</td>\n",
       "      <td>CUỘC THI NÀY CÓ THỂ TỔ CHỨC TRONG CẢ NƯỚC</td>\n",
       "    </tr>\n",
       "  </tbody>\n",
       "</table>\n",
       "</div>"
      ],
      "text/plain": [
       "                                                path       file_name  \\\n",
       "0  datasets/vivos/train/waves/VIVOSSPK17/VIVOSSPK...  VIVOSSPK17_094   \n",
       "1  datasets/vivos/train/waves/VIVOSSPK17/VIVOSSPK...  VIVOSSPK17_039   \n",
       "2  datasets/vivos/train/waves/VIVOSSPK17/VIVOSSPK...  VIVOSSPK17_178   \n",
       "3  datasets/vivos/train/waves/VIVOSSPK17/VIVOSSPK...  VIVOSSPK17_022   \n",
       "4  datasets/vivos/train/waves/VIVOSSPK17/VIVOSSPK...  VIVOSSPK17_052   \n",
       "\n",
       "  folder_name gender                                       text  \n",
       "0  VIVOSSPK17      f              VÌ CÁI VÒNG SỐ BA QUÁ HẤP DẪN  \n",
       "1  VIVOSSPK17      f                      THÀNH TÍCH VÀ QUY GÁN  \n",
       "2  VIVOSSPK17      f            TẤT CẢ NHỮNG THỨ XUNG QUANH BẠN  \n",
       "3  VIVOSSPK17      f     LÀ SẼ XỬ LÝ CƯƠNG QUYẾT NHỮNG SAI PHẠM  \n",
       "4  VIVOSSPK17      f  CUỘC THI NÀY CÓ THỂ TỔ CHỨC TRONG CẢ NƯỚC  "
      ]
     },
     "execution_count": 4,
     "metadata": {},
     "output_type": "execute_result"
    }
   ],
   "source": [
    "train_df = load_audio_df(train_dir)\n",
    "test_df = load_audio_df(test_dir)\n",
    "\n",
    "train_df.head()"
   ]
  },
  {
   "cell_type": "code",
   "execution_count": 5,
   "metadata": {},
   "outputs": [
    {
     "data": {
      "text/plain": [
       "((11660, 5), (760, 5))"
      ]
     },
     "execution_count": 5,
     "metadata": {},
     "output_type": "execute_result"
    }
   ],
   "source": [
    "train_df.shape, test_df.shape"
   ]
  },
  {
   "cell_type": "markdown",
   "metadata": {},
   "source": [
    "### Convert to Dataset"
   ]
  },
  {
   "cell_type": "code",
   "execution_count": 6,
   "metadata": {},
   "outputs": [
    {
     "name": "stderr",
     "output_type": "stream",
     "text": [
      "/home/mpp/miniconda3/envs/audio/lib/python3.10/site-packages/tqdm/auto.py:21: TqdmWarning: IProgress not found. Please update jupyter and ipywidgets. See https://ipywidgets.readthedocs.io/en/stable/user_install.html\n",
      "  from .autonotebook import tqdm as notebook_tqdm\n"
     ]
    },
    {
     "data": {
      "text/plain": [
       "DatasetDict({\n",
       "    train: Dataset({\n",
       "        features: ['path', 'file_name', 'folder_name', 'gender', 'text'],\n",
       "        num_rows: 11660\n",
       "    })\n",
       "    test: Dataset({\n",
       "        features: ['path', 'file_name', 'folder_name', 'gender', 'text'],\n",
       "        num_rows: 760\n",
       "    })\n",
       "})"
      ]
     },
     "execution_count": 6,
     "metadata": {},
     "output_type": "execute_result"
    }
   ],
   "source": [
    "# add train_df and test_df to dataset\n",
    "from datasets import Dataset, DatasetDict\n",
    "\n",
    "ds = DatasetDict({\n",
    "    'train': Dataset.from_pandas(train_df),\n",
    "    'test': Dataset.from_pandas(test_df)\n",
    "})\n",
    "ds"
   ]
  },
  {
   "cell_type": "markdown",
   "metadata": {},
   "source": [
    "## EDA"
   ]
  },
  {
   "cell_type": "markdown",
   "metadata": {},
   "source": []
  }
 ],
 "metadata": {
  "kernelspec": {
   "display_name": "audio",
   "language": "python",
   "name": "python3"
  },
  "language_info": {
   "codemirror_mode": {
    "name": "ipython",
    "version": 3
   },
   "file_extension": ".py",
   "mimetype": "text/x-python",
   "name": "python",
   "nbconvert_exporter": "python",
   "pygments_lexer": "ipython3",
   "version": "3.10.11"
  }
 },
 "nbformat": 4,
 "nbformat_minor": 2
}
