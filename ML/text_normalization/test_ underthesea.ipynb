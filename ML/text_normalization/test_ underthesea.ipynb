{
 "cells": [
  {
   "cell_type": "markdown",
   "metadata": {},
   "source": [
    "# Text normalization Underthesea"
   ]
  },
  {
   "cell_type": "code",
   "execution_count": 3,
   "metadata": {},
   "outputs": [],
   "source": [
    "from underthesea import text_normalize\n",
    "import pandas as pd"
   ]
  },
  {
   "cell_type": "code",
   "execution_count": 5,
   "metadata": {},
   "outputs": [
    {
     "data": {
      "text/plain": [
       "'Đảm bảo chất lượng phòng thí nghiệm hóa học'"
      ]
     },
     "execution_count": 5,
     "metadata": {},
     "output_type": "execute_result"
    }
   ],
   "source": [
    "text_normalize(\"Ðảm baỏ chất lựơng phòng thí nghịêm hoá học\")"
   ]
  },
  {
   "cell_type": "code",
   "execution_count": 4,
   "metadata": {},
   "outputs": [
    {
     "data": {
      "text/html": [
       "<div>\n",
       "<style scoped>\n",
       "    .dataframe tbody tr th:only-of-type {\n",
       "        vertical-align: middle;\n",
       "    }\n",
       "\n",
       "    .dataframe tbody tr th {\n",
       "        vertical-align: top;\n",
       "    }\n",
       "\n",
       "    .dataframe thead th {\n",
       "        text-align: right;\n",
       "    }\n",
       "</style>\n",
       "<table border=\"1\" class=\"dataframe\">\n",
       "  <thead>\n",
       "    <tr style=\"text-align: right;\">\n",
       "      <th></th>\n",
       "      <th>Reference</th>\n",
       "      <th>Normalised text (ASR text)</th>\n",
       "      <th>Normalised text (ASR text) With punctuations</th>\n",
       "    </tr>\n",
       "  </thead>\n",
       "  <tbody>\n",
       "    <tr>\n",
       "      <th>0</th>\n",
       "      <td>Tôi phải mua một chiếc vòng tay cho bạn tôi vớ...</td>\n",
       "      <td>TÔI PHẢI MUA MỘT CHIẾC VÒNG TAY CHO BẠN TÔI VỚ...</td>\n",
       "      <td>TÔI PHẢI MUA MỘT CHIẾC VÒNG TAY CHO BẠN TÔI VỚ...</td>\n",
       "    </tr>\n",
       "    <tr>\n",
       "      <th>1</th>\n",
       "      <td>Ngân sách dành cho món quà của bạn tôi là 750 ...</td>\n",
       "      <td>NGÂN SÁCH DÀNH CHO MÓN QUÀ CỦA BẠN TÔI LÀ BẢY ...</td>\n",
       "      <td>NGÂN SÁCH DÀNH CHO MÓN QUÀ CỦA BẠN TÔI LÀ BẢY ...</td>\n",
       "    </tr>\n",
       "    <tr>\n",
       "      <th>2</th>\n",
       "      <td>Liên yêu chiếc vòng cổ trị giá 2 triệu đồng.</td>\n",
       "      <td>LIÊN YÊU CHIẾC VÒNG CỔ TRỊ GIÁ HAI TRIỆU ĐỒNG</td>\n",
       "      <td>LIÊN YÊU CHIẾC VÒNG CỔ TRỊ GIÁ HAI TRIỆU ĐỒNG.</td>\n",
       "    </tr>\n",
       "    <tr>\n",
       "      <th>3</th>\n",
       "      <td>Chiếc nhẫn kim cương không trị giá 2 triệu đồng.</td>\n",
       "      <td>CHIẾC NHẪN KIM CƯƠNG KHÔNG TRỊ GIÁ HAI TRIỆU ĐỒNG</td>\n",
       "      <td>CHIẾC NHẪN KIM CƯƠNG KHÔNG TRỊ GIÁ HAI TRIỆU Đ...</td>\n",
       "    </tr>\n",
       "    <tr>\n",
       "      <th>4</th>\n",
       "      <td>Nữ diễn viên đi đôi giày đính kim cương trị gi...</td>\n",
       "      <td>NỮ DIỄN VIÊN ĐI ĐÔI GIÀY ĐÍNH KIM CƯƠNG TRỊ GI...</td>\n",
       "      <td>NỮ DIỄN VIÊN ĐI ĐÔI GIÀY ĐÍNH KIM CƯƠNG TRỊ GI...</td>\n",
       "    </tr>\n",
       "  </tbody>\n",
       "</table>\n",
       "</div>"
      ],
      "text/plain": [
       "                                           Reference  \\\n",
       "0  Tôi phải mua một chiếc vòng tay cho bạn tôi vớ...   \n",
       "1  Ngân sách dành cho món quà của bạn tôi là 750 ...   \n",
       "2       Liên yêu chiếc vòng cổ trị giá 2 triệu đồng.   \n",
       "3   Chiếc nhẫn kim cương không trị giá 2 triệu đồng.   \n",
       "4  Nữ diễn viên đi đôi giày đính kim cương trị gi...   \n",
       "\n",
       "                          Normalised text (ASR text)  \\\n",
       "0  TÔI PHẢI MUA MỘT CHIẾC VÒNG TAY CHO BẠN TÔI VỚ...   \n",
       "1  NGÂN SÁCH DÀNH CHO MÓN QUÀ CỦA BẠN TÔI LÀ BẢY ...   \n",
       "2      LIÊN YÊU CHIẾC VÒNG CỔ TRỊ GIÁ HAI TRIỆU ĐỒNG   \n",
       "3  CHIẾC NHẪN KIM CƯƠNG KHÔNG TRỊ GIÁ HAI TRIỆU ĐỒNG   \n",
       "4  NỮ DIỄN VIÊN ĐI ĐÔI GIÀY ĐÍNH KIM CƯƠNG TRỊ GI...   \n",
       "\n",
       "        Normalised text (ASR text) With punctuations  \n",
       "0  TÔI PHẢI MUA MỘT CHIẾC VÒNG TAY CHO BẠN TÔI VỚ...  \n",
       "1  NGÂN SÁCH DÀNH CHO MÓN QUÀ CỦA BẠN TÔI LÀ BẢY ...  \n",
       "2     LIÊN YÊU CHIẾC VÒNG CỔ TRỊ GIÁ HAI TRIỆU ĐỒNG.  \n",
       "3  CHIẾC NHẪN KIM CƯƠNG KHÔNG TRỊ GIÁ HAI TRIỆU Đ...  \n",
       "4  NỮ DIỄN VIÊN ĐI ĐÔI GIÀY ĐÍNH KIM CƯƠNG TRỊ GI...  "
      ]
     },
     "execution_count": 4,
     "metadata": {},
     "output_type": "execute_result"
    }
   ],
   "source": [
    "currency_df = pd.read_pickle(\"datasets/VietnameseCurrencyConversion.pkl\")\n",
    "currency_df.head()"
   ]
  },
  {
   "cell_type": "code",
   "execution_count": 6,
   "metadata": {},
   "outputs": [
    {
     "data": {
      "text/plain": [
       "'Tôi phải mua một chiếc vòng tay cho bạn tôi với giá 300 nghìn đồng .'"
      ]
     },
     "execution_count": 6,
     "metadata": {},
     "output_type": "execute_result"
    }
   ],
   "source": [
    "text_normalize(currency_df[\"Reference\"][0])"
   ]
  },
  {
   "cell_type": "code",
   "execution_count": 7,
   "metadata": {},
   "outputs": [
    {
     "data": {
      "text/plain": [
       "'Tôi phải mua một chiếc vòng tay cho bạn tôi với giá 300 nghìn đồng.'"
      ]
     },
     "execution_count": 7,
     "metadata": {},
     "output_type": "execute_result"
    }
   ],
   "source": [
    "test_text = currency_df[\"Reference\"][0]\n",
    "test_text"
   ]
  },
  {
   "cell_type": "code",
   "execution_count": 8,
   "metadata": {},
   "outputs": [
    {
     "data": {
      "text/plain": [
       "'Tôi phải mua một chiếc vòng tay cho bạn tôi với giá 300 nghìn đồng .'"
      ]
     },
     "execution_count": 8,
     "metadata": {},
     "output_type": "execute_result"
    }
   ],
   "source": [
    "text_normalize(test_text)"
   ]
  },
  {
   "cell_type": "code",
   "execution_count": null,
   "metadata": {},
   "outputs": [],
   "source": []
  }
 ],
 "metadata": {
  "kernelspec": {
   "display_name": "audio",
   "language": "python",
   "name": "python3"
  },
  "language_info": {
   "codemirror_mode": {
    "name": "ipython",
    "version": 3
   },
   "file_extension": ".py",
   "mimetype": "text/x-python",
   "name": "python",
   "nbconvert_exporter": "python",
   "pygments_lexer": "ipython3",
   "version": "3.10.11"
  }
 },
 "nbformat": 4,
 "nbformat_minor": 2
}
