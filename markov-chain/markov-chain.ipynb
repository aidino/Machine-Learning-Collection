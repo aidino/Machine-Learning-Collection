{
 "cells": [
  {
   "cell_type": "code",
   "execution_count": 1,
   "metadata": {},
   "outputs": [],
   "source": [
    "import numpy as np\n",
    "import pandas as pd \n",
    "from pprint import pprint\n",
    "from collections import defaultdict"
   ]
  },
  {
   "cell_type": "code",
   "execution_count": 3,
   "metadata": {},
   "outputs": [
    {
     "data": {
      "text/plain": [
       "['Bánh mì', 'Bánh mì', 'Cơm tấm', 'Phở', 'Súp cua']"
      ]
     },
     "execution_count": 3,
     "metadata": {},
     "output_type": "execute_result"
    }
   ],
   "source": [
    "df = pd.read_csv('breakfast.csv')\n",
    "data = df.Food.to_list()\n",
    "data[:5]"
   ]
  },
  {
   "cell_type": "markdown",
   "metadata": {},
   "source": [
    "$$\n",
    "P(W_t|W_{t-1}) = \\frac{Count(\"W_{t-1}W_t\")}{Count(\"W_{t-1}\")}\n",
    "$$"
   ]
  },
  {
   "cell_type": "markdown",
   "metadata": {},
   "source": [
    "trước tiên ta phải đếm các cặp và các giá trị đơn lẻ trước, sau đó đi chuẩn hóa"
   ]
  },
  {
   "cell_type": "code",
   "execution_count": 4,
   "metadata": {},
   "outputs": [],
   "source": [
    "food_count = defaultdict(int)\n",
    "food_pair_count = defaultdict(lambda: defaultdict(float))"
   ]
  },
  {
   "cell_type": "code",
   "execution_count": 5,
   "metadata": {},
   "outputs": [],
   "source": [
    "# food_count: đếm số lần xuất hiện của một trạng thái\n",
    "# food_pair_count: đếm tất cả các cặp trạng thái có thể [current][future]\n",
    "n = len(data)\n",
    "for i in range(n):\n",
    "    food_count[data[i]] += 1\n",
    "    if i == n - 1:\n",
    "        # self loop\n",
    "        food_pair_count[data[i]][data[i]] += 1\n",
    "        break\n",
    "    food_pair_count[data[i]][data[i + 1]] += 1"
   ]
  },
  {
   "cell_type": "code",
   "execution_count": 6,
   "metadata": {},
   "outputs": [
    {
     "data": {
      "text/plain": [
       "defaultdict(int, {'Bánh mì': 79, 'Cơm tấm': 91, 'Phở': 91, 'Súp cua': 104})"
      ]
     },
     "execution_count": 6,
     "metadata": {},
     "output_type": "execute_result"
    }
   ],
   "source": [
    "food_count"
   ]
  },
  {
   "cell_type": "code",
   "execution_count": 7,
   "metadata": {},
   "outputs": [
    {
     "data": {
      "text/plain": [
       "defaultdict(<function __main__.<lambda>()>,\n",
       "            {'Bánh mì': defaultdict(float,\n",
       "                         {'Bánh mì': 21.0,\n",
       "                          'Cơm tấm': 21.0,\n",
       "                          'Súp cua': 21.0,\n",
       "                          'Phở': 16.0}),\n",
       "             'Cơm tấm': defaultdict(float,\n",
       "                         {'Phở': 23.0,\n",
       "                          'Bánh mì': 19.0,\n",
       "                          'Súp cua': 22.0,\n",
       "                          'Cơm tấm': 27.0}),\n",
       "             'Phở': defaultdict(float,\n",
       "                         {'Súp cua': 26.0,\n",
       "                          'Cơm tấm': 23.0,\n",
       "                          'Phở': 26.0,\n",
       "                          'Bánh mì': 16.0}),\n",
       "             'Súp cua': defaultdict(float,\n",
       "                         {'Phở': 27.0,\n",
       "                          'Súp cua': 35.0,\n",
       "                          'Bánh mì': 22.0,\n",
       "                          'Cơm tấm': 20.0})})"
      ]
     },
     "execution_count": 7,
     "metadata": {},
     "output_type": "execute_result"
    }
   ],
   "source": [
    "food_pair_count"
   ]
  },
  {
   "cell_type": "code",
   "execution_count": 8,
   "metadata": {},
   "outputs": [],
   "source": [
    "# chuẩn hóa theo tổng hàng\n",
    "for key, value in food_pair_count.items():\n",
    "    for k, v in value.items():\n",
    "        food_pair_count[key][k] /= food_count[key] # chuẩn hóa"
   ]
  },
  {
   "cell_type": "code",
   "execution_count": 9,
   "metadata": {},
   "outputs": [
    {
     "data": {
      "text/plain": [
       "defaultdict(<function __main__.<lambda>()>,\n",
       "            {'Bánh mì': defaultdict(float,\n",
       "                         {'Bánh mì': 0.26582278481012656,\n",
       "                          'Cơm tấm': 0.26582278481012656,\n",
       "                          'Súp cua': 0.26582278481012656,\n",
       "                          'Phở': 0.20253164556962025}),\n",
       "             'Cơm tấm': defaultdict(float,\n",
       "                         {'Phở': 0.25274725274725274,\n",
       "                          'Bánh mì': 0.2087912087912088,\n",
       "                          'Súp cua': 0.24175824175824176,\n",
       "                          'Cơm tấm': 0.2967032967032967}),\n",
       "             'Phở': defaultdict(float,\n",
       "                         {'Súp cua': 0.2857142857142857,\n",
       "                          'Cơm tấm': 0.25274725274725274,\n",
       "                          'Phở': 0.2857142857142857,\n",
       "                          'Bánh mì': 0.17582417582417584}),\n",
       "             'Súp cua': defaultdict(float,\n",
       "                         {'Phở': 0.25961538461538464,\n",
       "                          'Súp cua': 0.33653846153846156,\n",
       "                          'Bánh mì': 0.21153846153846154,\n",
       "                          'Cơm tấm': 0.19230769230769232})})"
      ]
     },
     "execution_count": 9,
     "metadata": {},
     "output_type": "execute_result"
    }
   ],
   "source": [
    "food_pair_count"
   ]
  },
  {
   "cell_type": "code",
   "execution_count": 10,
   "metadata": {},
   "outputs": [
    {
     "name": "stdout",
     "output_type": "stream",
     "text": [
      "{'Bánh mì': 0, 'Cơm tấm': 1, 'Phở': 2, 'Súp cua': 3}\n"
     ]
    }
   ],
   "source": [
    "# lấy index của các món ăn để dễ thao tác\n",
    "keys = list(food_count.keys())\n",
    "idx = range(len(keys))\n",
    "key_to_idx = dict(zip(keys, idx)) # key to index\n",
    "print(key_to_idx)"
   ]
  },
  {
   "cell_type": "markdown",
   "metadata": {},
   "source": [
    "Ta bây giờ có thể tạo ma trận \n",
    " từ xác suất đã chuẩn hóa từ bước trên, và nên chuyển từ list sang numpy để tiện lợi cho việc tính toán hơn, do numpy là một thư viện rất mạnh của Python trong việc xử lý các thao tác liên quan đến đại số tuyến tính."
   ]
  },
  {
   "cell_type": "code",
   "execution_count": 12,
   "metadata": {},
   "outputs": [
    {
     "name": "stdout",
     "output_type": "stream",
     "text": [
      "Ma trận chuyển trạng thái P: \n",
      "array([[0.26582278, 0.26582278, 0.26582278, 0.20253165],\n",
      "       [0.25274725, 0.20879121, 0.24175824, 0.2967033 ],\n",
      "       [0.28571429, 0.25274725, 0.28571429, 0.17582418],\n",
      "       [0.25961538, 0.33653846, 0.21153846, 0.19230769]])\n"
     ]
    }
   ],
   "source": [
    "P = []\n",
    "for key, value in food_pair_count.items():\n",
    "    P.append(list(value.values()))\n",
    "        \n",
    "# chuyển list sang numpy để dễ tính toán\n",
    "P = np.array(P)\n",
    "\n",
    "print('Ma trận chuyển trạng thái P: ')\n",
    "pprint(P)"
   ]
  },
  {
   "cell_type": "code",
   "execution_count": 13,
   "metadata": {},
   "outputs": [],
   "source": [
    "# dự đoán món ăn \n",
    "curr_food = data[-1]\n",
    "curr_distribution = P[key_to_idx[curr_food]]\n",
    "predicted_food = np.random.choice(keys, p=curr_distribution) # random walk with known distribution\n",
    "predicted_probability = P[key_to_idx[curr_food]][key_to_idx[predicted_food]]"
   ]
  },
  {
   "cell_type": "code",
   "execution_count": 15,
   "metadata": {},
   "outputs": [
    {
     "data": {
      "text/plain": [
       "0.17582417582417584"
      ]
     },
     "execution_count": 15,
     "metadata": {},
     "output_type": "execute_result"
    }
   ],
   "source": [
    "predicted_probability"
   ]
  },
  {
   "cell_type": "code",
   "execution_count": 16,
   "metadata": {},
   "outputs": [
    {
     "name": "stdout",
     "output_type": "stream",
     "text": [
      "Món ăn chúng ta ăn hôm trước: Phở\n",
      "Món ăn nên ăn vào hôm nay là \"Súp cua\" với khả năng xảy ra là 17.58%\n"
     ]
    }
   ],
   "source": [
    "# In ra kết quả dự đoán\n",
    "print(f'Món ăn chúng ta ăn hôm trước: {data[-1]}')\n",
    "print(f'Món ăn nên ăn vào hôm nay là \"{predicted_food}\"\\\n",
    " với khả năng xảy ra là {round(predicted_probability * 100, 2)}%')\n"
   ]
  },
  {
   "cell_type": "code",
   "execution_count": null,
   "metadata": {},
   "outputs": [],
   "source": []
  }
 ],
 "metadata": {
  "kernelspec": {
   "display_name": "torch",
   "language": "python",
   "name": "python3"
  },
  "language_info": {
   "codemirror_mode": {
    "name": "ipython",
    "version": 3
   },
   "file_extension": ".py",
   "mimetype": "text/x-python",
   "name": "python",
   "nbconvert_exporter": "python",
   "pygments_lexer": "ipython3",
   "version": "3.10.11"
  }
 },
 "nbformat": 4,
 "nbformat_minor": 2
}
